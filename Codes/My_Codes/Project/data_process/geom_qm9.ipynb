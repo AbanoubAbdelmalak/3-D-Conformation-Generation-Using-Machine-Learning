{
 "cells": [
  {
   "attachments": {},
   "cell_type": "markdown",
   "metadata": {},
   "source": [
    "## In this notebook we test the compatibility of the implemented dataset class for GEOM-QM9 and Sphernet"
   ]
  },
  {
   "cell_type": "code",
   "execution_count": 8,
   "metadata": {},
   "outputs": [],
   "source": [
    "import torch\n",
    "from torch_geometric.loader import DataLoader\n",
    "from dig.threedgraph.evaluation import ThreeDEvaluator\n",
    "from dig.threedgraph.method import run\n",
    "from dig.threedgraph.method.spherenet import SphereNet\n",
    "from qm9_dataset import qm9_data_geom"
   ]
  },
  {
   "cell_type": "code",
   "execution_count": 2,
   "metadata": {},
   "outputs": [
    {
     "data": {
      "text/plain": [
       "device(type='cuda', index=0)"
      ]
     },
     "execution_count": 2,
     "metadata": {},
     "output_type": "execute_result"
    }
   ],
   "source": [
    "device = torch.device('cuda:0') if torch.cuda.is_available() else torch.device(\"cpu\")\n",
    "device"
   ]
  },
  {
   "attachments": {},
   "cell_type": "markdown",
   "metadata": {},
   "source": [
    "path to the GEOM-QM9 to be passe dto the dataset class"
   ]
  },
  {
   "cell_type": "code",
   "execution_count": 3,
   "metadata": {},
   "outputs": [],
   "source": [
    "path_to_data = '../../../others_approaches/conformation_generation/GeoMol/data/QM9/'\n"
   ]
  },
  {
   "cell_type": "code",
   "execution_count": 4,
   "metadata": {},
   "outputs": [],
   "source": [
    "qm9_set = qm9_data_geom(root= path_to_data)"
   ]
  },
  {
   "attachments": {},
   "cell_type": "markdown",
   "metadata": {},
   "source": [
    "We test the dataset's structure by accessing a random element"
   ]
  },
  {
   "cell_type": "code",
   "execution_count": 5,
   "metadata": {},
   "outputs": [
    {
     "name": "stdout",
     "output_type": "stream",
     "text": [
      "Data(x=[13, 44], edge_index=[2, 24], edge_attr=[24, 4], y=[1], pos=[13, 3], z=[13], chiral_tag=[13], name='C#CC#CC#CC#C', boltzmann_weight=[1], degeneracy=[1], mol=<rdkit.Chem.rdchem.Mol object at 0x7fc73e9204f0>, pos_mask=[10])\n"
     ]
    }
   ],
   "source": [
    "print(qm9_set[2])"
   ]
  },
  {
   "attachments": {},
   "cell_type": "markdown",
   "metadata": {},
   "source": [
    "We prepare for training with SphereNet for a trivial task just to test if the forward path works without errors"
   ]
  },
  {
   "cell_type": "code",
   "execution_count": 6,
   "metadata": {},
   "outputs": [],
   "source": [
    "\n",
    "split_idx = qm9_set.get_idx_split(len(qm9_set.data.y)-2, train_size=300, valid_size=100, seed=42)\n",
    "\n",
    "train_dataset, valid_dataset, test_dataset = qm9_set[split_idx['train']], qm9_set[split_idx['valid']], qm9_set[split_idx['test']]\n"
   ]
  },
  {
   "cell_type": "code",
   "execution_count": 9,
   "metadata": {},
   "outputs": [],
   "source": [
    "model = SphereNet(energy_and_force=False, cutoff=5.0, num_layers=4, \n",
    "        hidden_channels=128, out_channels=1, int_emb_size=64, \n",
    "        basis_emb_size_dist=8, basis_emb_size_angle=8, basis_emb_size_torsion=8, out_emb_channels=256, \n",
    "        num_spherical=3, num_radial=6, envelope_exponent=5, \n",
    "        num_before_skip=1, num_after_skip=2, num_output_layers=3, use_node_features=True)\n",
    "loss_func = torch.nn.L1Loss()\n",
    "evaluation = ThreeDEvaluator()"
   ]
  },
  {
   "attachments": {},
   "cell_type": "markdown",
   "metadata": {},
   "source": [
    "We run the model evaluation and see below that there were no errors in the whole training epoch. we topped the code middway as the main target was to check for errrors in the forward path."
   ]
  },
  {
   "cell_type": "code",
   "execution_count": 10,
   "metadata": {},
   "outputs": [
    {
     "name": "stdout",
     "output_type": "stream",
     "text": [
      "#Params: 1890118\n",
      "\n",
      "=====Epoch 1\n",
      "\n",
      "Training...\n"
     ]
    },
    {
     "name": "stderr",
     "output_type": "stream",
     "text": [
      "/home/aabdel2s/anaconda3/envs/DIG-Stable/lib/python3.8/site-packages/torch_geometric/deprecation.py:13: UserWarning: 'data.DataLoader' is deprecated, use 'loader.DataLoader' instead\n",
      "  warnings.warn(out)\n",
      "100%|██████████| 75/75 [00:13<00:00,  5.64it/s]"
     ]
    },
    {
     "name": "stdout",
     "output_type": "stream",
     "text": [
      "\n",
      "\n",
      "Evaluating...\n"
     ]
    },
    {
     "name": "stderr",
     "output_type": "stream",
     "text": [
      "\n",
      "100%|██████████| 25/25 [00:01<00:00, 17.45it/s]"
     ]
    },
    {
     "name": "stdout",
     "output_type": "stream",
     "text": [
      "\n",
      "\n",
      "Testing...\n"
     ]
    },
    {
     "name": "stderr",
     "output_type": "stream",
     "text": [
      "\n",
      "  0%|          | 166/130431 [00:09<2:01:52, 17.81it/s]\n"
     ]
    },
    {
     "ename": "KeyboardInterrupt",
     "evalue": "",
     "output_type": "error",
     "traceback": [
      "\u001b[0;31m---------------------------------------------------------------------------\u001b[0m",
      "\u001b[0;31mKeyboardInterrupt\u001b[0m                         Traceback (most recent call last)",
      "Cell \u001b[0;32mIn[10], line 2\u001b[0m\n\u001b[1;32m      1\u001b[0m run3d \u001b[39m=\u001b[39m run()\n\u001b[0;32m----> 2\u001b[0m run3d\u001b[39m.\u001b[39;49mrun(device, train_dataset, valid_dataset, test_dataset, \n\u001b[1;32m      3\u001b[0m         model, loss_func, evaluation, \n\u001b[1;32m      4\u001b[0m         epochs\u001b[39m=\u001b[39;49m\u001b[39m2\u001b[39;49m, batch_size\u001b[39m=\u001b[39;49m\u001b[39m4\u001b[39;49m, vt_batch_size\u001b[39m=\u001b[39;49m\u001b[39m4\u001b[39;49m, lr\u001b[39m=\u001b[39;49m\u001b[39m0.0005\u001b[39;49m, lr_decay_factor\u001b[39m=\u001b[39;49m\u001b[39m0.5\u001b[39;49m, lr_decay_step_size\u001b[39m=\u001b[39;49m\u001b[39m15\u001b[39;49m)\n",
      "File \u001b[0;32m~/anaconda3/envs/DIG-Stable/lib/python3.8/site-packages/dig/threedgraph/method/run.py:77\u001b[0m, in \u001b[0;36mrun.run\u001b[0;34m(self, device, train_dataset, valid_dataset, test_dataset, model, loss_func, evaluation, epochs, batch_size, vt_batch_size, lr, lr_decay_factor, lr_decay_step_size, weight_decay, energy_and_force, p, save_dir, log_dir)\u001b[0m\n\u001b[1;32m     74\u001b[0m valid_mae \u001b[39m=\u001b[39m \u001b[39mself\u001b[39m\u001b[39m.\u001b[39mval(model, valid_loader, energy_and_force, p, evaluation, device)\n\u001b[1;32m     76\u001b[0m \u001b[39mprint\u001b[39m(\u001b[39m'\u001b[39m\u001b[39m\\n\u001b[39;00m\u001b[39m\\n\u001b[39;00m\u001b[39mTesting...\u001b[39m\u001b[39m'\u001b[39m, flush\u001b[39m=\u001b[39m\u001b[39mTrue\u001b[39;00m)\n\u001b[0;32m---> 77\u001b[0m test_mae \u001b[39m=\u001b[39m \u001b[39mself\u001b[39;49m\u001b[39m.\u001b[39;49mval(model, test_loader, energy_and_force, p, evaluation, device)\n\u001b[1;32m     79\u001b[0m \u001b[39mprint\u001b[39m()\n\u001b[1;32m     80\u001b[0m \u001b[39mprint\u001b[39m({\u001b[39m'\u001b[39m\u001b[39mTrain\u001b[39m\u001b[39m'\u001b[39m: train_mae, \u001b[39m'\u001b[39m\u001b[39mValidation\u001b[39m\u001b[39m'\u001b[39m: valid_mae, \u001b[39m'\u001b[39m\u001b[39mTest\u001b[39m\u001b[39m'\u001b[39m: test_mae})\n",
      "File \u001b[0;32m~/anaconda3/envs/DIG-Stable/lib/python3.8/site-packages/dig/threedgraph/method/run.py:161\u001b[0m, in \u001b[0;36mrun.val\u001b[0;34m(self, model, data_loader, energy_and_force, p, evaluation, device)\u001b[0m\n\u001b[1;32m    158\u001b[0m     preds_force \u001b[39m=\u001b[39m torch\u001b[39m.\u001b[39mTensor([])\u001b[39m.\u001b[39mto(device)\n\u001b[1;32m    159\u001b[0m     targets_force \u001b[39m=\u001b[39m torch\u001b[39m.\u001b[39mTensor([])\u001b[39m.\u001b[39mto(device)\n\u001b[0;32m--> 161\u001b[0m \u001b[39mfor\u001b[39;00m step, batch_data \u001b[39min\u001b[39;00m \u001b[39menumerate\u001b[39m(tqdm(data_loader)):\n\u001b[1;32m    162\u001b[0m     batch_data \u001b[39m=\u001b[39m batch_data\u001b[39m.\u001b[39mto(device)\n\u001b[1;32m    163\u001b[0m     out \u001b[39m=\u001b[39m model(batch_data)\n",
      "File \u001b[0;32m~/anaconda3/envs/DIG-Stable/lib/python3.8/site-packages/tqdm/std.py:1178\u001b[0m, in \u001b[0;36mtqdm.__iter__\u001b[0;34m(self)\u001b[0m\n\u001b[1;32m   1175\u001b[0m time \u001b[39m=\u001b[39m \u001b[39mself\u001b[39m\u001b[39m.\u001b[39m_time\n\u001b[1;32m   1177\u001b[0m \u001b[39mtry\u001b[39;00m:\n\u001b[0;32m-> 1178\u001b[0m     \u001b[39mfor\u001b[39;00m obj \u001b[39min\u001b[39;00m iterable:\n\u001b[1;32m   1179\u001b[0m         \u001b[39myield\u001b[39;00m obj\n\u001b[1;32m   1180\u001b[0m         \u001b[39m# Update and possibly print the progressbar.\u001b[39;00m\n\u001b[1;32m   1181\u001b[0m         \u001b[39m# Note: does not call self.update(1) for speed optimisation.\u001b[39;00m\n",
      "File \u001b[0;32m~/anaconda3/envs/DIG-Stable/lib/python3.8/site-packages/torch/utils/data/dataloader.py:530\u001b[0m, in \u001b[0;36m_BaseDataLoaderIter.__next__\u001b[0;34m(self)\u001b[0m\n\u001b[1;32m    528\u001b[0m \u001b[39mif\u001b[39;00m \u001b[39mself\u001b[39m\u001b[39m.\u001b[39m_sampler_iter \u001b[39mis\u001b[39;00m \u001b[39mNone\u001b[39;00m:\n\u001b[1;32m    529\u001b[0m     \u001b[39mself\u001b[39m\u001b[39m.\u001b[39m_reset()\n\u001b[0;32m--> 530\u001b[0m data \u001b[39m=\u001b[39m \u001b[39mself\u001b[39;49m\u001b[39m.\u001b[39;49m_next_data()\n\u001b[1;32m    531\u001b[0m \u001b[39mself\u001b[39m\u001b[39m.\u001b[39m_num_yielded \u001b[39m+\u001b[39m\u001b[39m=\u001b[39m \u001b[39m1\u001b[39m\n\u001b[1;32m    532\u001b[0m \u001b[39mif\u001b[39;00m \u001b[39mself\u001b[39m\u001b[39m.\u001b[39m_dataset_kind \u001b[39m==\u001b[39m _DatasetKind\u001b[39m.\u001b[39mIterable \u001b[39mand\u001b[39;00m \\\n\u001b[1;32m    533\u001b[0m         \u001b[39mself\u001b[39m\u001b[39m.\u001b[39m_IterableDataset_len_called \u001b[39mis\u001b[39;00m \u001b[39mnot\u001b[39;00m \u001b[39mNone\u001b[39;00m \u001b[39mand\u001b[39;00m \\\n\u001b[1;32m    534\u001b[0m         \u001b[39mself\u001b[39m\u001b[39m.\u001b[39m_num_yielded \u001b[39m>\u001b[39m \u001b[39mself\u001b[39m\u001b[39m.\u001b[39m_IterableDataset_len_called:\n",
      "File \u001b[0;32m~/anaconda3/envs/DIG-Stable/lib/python3.8/site-packages/torch/utils/data/dataloader.py:570\u001b[0m, in \u001b[0;36m_SingleProcessDataLoaderIter._next_data\u001b[0;34m(self)\u001b[0m\n\u001b[1;32m    568\u001b[0m \u001b[39mdef\u001b[39;00m \u001b[39m_next_data\u001b[39m(\u001b[39mself\u001b[39m):\n\u001b[1;32m    569\u001b[0m     index \u001b[39m=\u001b[39m \u001b[39mself\u001b[39m\u001b[39m.\u001b[39m_next_index()  \u001b[39m# may raise StopIteration\u001b[39;00m\n\u001b[0;32m--> 570\u001b[0m     data \u001b[39m=\u001b[39m \u001b[39mself\u001b[39;49m\u001b[39m.\u001b[39;49m_dataset_fetcher\u001b[39m.\u001b[39;49mfetch(index)  \u001b[39m# may raise StopIteration\u001b[39;00m\n\u001b[1;32m    571\u001b[0m     \u001b[39mif\u001b[39;00m \u001b[39mself\u001b[39m\u001b[39m.\u001b[39m_pin_memory:\n\u001b[1;32m    572\u001b[0m         data \u001b[39m=\u001b[39m _utils\u001b[39m.\u001b[39mpin_memory\u001b[39m.\u001b[39mpin_memory(data)\n",
      "File \u001b[0;32m~/anaconda3/envs/DIG-Stable/lib/python3.8/site-packages/torch/utils/data/_utils/fetch.py:52\u001b[0m, in \u001b[0;36m_MapDatasetFetcher.fetch\u001b[0;34m(self, possibly_batched_index)\u001b[0m\n\u001b[1;32m     50\u001b[0m \u001b[39melse\u001b[39;00m:\n\u001b[1;32m     51\u001b[0m     data \u001b[39m=\u001b[39m \u001b[39mself\u001b[39m\u001b[39m.\u001b[39mdataset[possibly_batched_index]\n\u001b[0;32m---> 52\u001b[0m \u001b[39mreturn\u001b[39;00m \u001b[39mself\u001b[39;49m\u001b[39m.\u001b[39;49mcollate_fn(data)\n",
      "File \u001b[0;32m~/anaconda3/envs/DIG-Stable/lib/python3.8/site-packages/torch_geometric/loader/dataloader.py:39\u001b[0m, in \u001b[0;36mCollater.__call__\u001b[0;34m(self, batch)\u001b[0m\n\u001b[1;32m     38\u001b[0m \u001b[39mdef\u001b[39;00m \u001b[39m__call__\u001b[39m(\u001b[39mself\u001b[39m, batch):\n\u001b[0;32m---> 39\u001b[0m     \u001b[39mreturn\u001b[39;00m \u001b[39mself\u001b[39;49m\u001b[39m.\u001b[39;49mcollate(batch)\n",
      "File \u001b[0;32m~/anaconda3/envs/DIG-Stable/lib/python3.8/site-packages/torch_geometric/loader/dataloader.py:19\u001b[0m, in \u001b[0;36mCollater.collate\u001b[0;34m(self, batch)\u001b[0m\n\u001b[1;32m     17\u001b[0m elem \u001b[39m=\u001b[39m batch[\u001b[39m0\u001b[39m]\n\u001b[1;32m     18\u001b[0m \u001b[39mif\u001b[39;00m \u001b[39misinstance\u001b[39m(elem, Data) \u001b[39mor\u001b[39;00m \u001b[39misinstance\u001b[39m(elem, HeteroData):\n\u001b[0;32m---> 19\u001b[0m     \u001b[39mreturn\u001b[39;00m Batch\u001b[39m.\u001b[39;49mfrom_data_list(batch, \u001b[39mself\u001b[39;49m\u001b[39m.\u001b[39;49mfollow_batch,\n\u001b[1;32m     20\u001b[0m                                 \u001b[39mself\u001b[39;49m\u001b[39m.\u001b[39;49mexclude_keys)\n\u001b[1;32m     21\u001b[0m \u001b[39melif\u001b[39;00m \u001b[39misinstance\u001b[39m(elem, torch\u001b[39m.\u001b[39mTensor):\n\u001b[1;32m     22\u001b[0m     \u001b[39mreturn\u001b[39;00m default_collate(batch)\n",
      "File \u001b[0;32m~/anaconda3/envs/DIG-Stable/lib/python3.8/site-packages/torch_geometric/data/batch.py:45\u001b[0m, in \u001b[0;36mBatch.from_data_list\u001b[0;34m(cls, data_list, follow_batch, exclude_keys)\u001b[0m\n\u001b[1;32m     33\u001b[0m \u001b[39m@classmethod\u001b[39m\n\u001b[1;32m     34\u001b[0m \u001b[39mdef\u001b[39;00m \u001b[39mfrom_data_list\u001b[39m(\u001b[39mcls\u001b[39m, data_list: Union[List[Data], List[HeteroData]],\n\u001b[1;32m     35\u001b[0m                    follow_batch: Optional[List[\u001b[39mstr\u001b[39m]] \u001b[39m=\u001b[39m \u001b[39mNone\u001b[39;00m,\n\u001b[1;32m     36\u001b[0m                    exclude_keys: Optional[List[\u001b[39mstr\u001b[39m]] \u001b[39m=\u001b[39m \u001b[39mNone\u001b[39;00m):\n\u001b[1;32m     37\u001b[0m     \u001b[39mr\u001b[39m\u001b[39m\"\"\"Constructs a :class:`~torch_geometric.data.Batch` object from a\u001b[39;00m\n\u001b[1;32m     38\u001b[0m \u001b[39m    Python list of :class:`~torch_geometric.data.Data` or\u001b[39;00m\n\u001b[1;32m     39\u001b[0m \u001b[39m    :class:`~torch_geometric.data.HeteroData` objects.\u001b[39;00m\n\u001b[0;32m   (...)\u001b[0m\n\u001b[1;32m     42\u001b[0m \u001b[39m    :obj:`follow_batch`.\u001b[39;00m\n\u001b[1;32m     43\u001b[0m \u001b[39m    Will exclude any keys given in :obj:`exclude_keys`.\"\"\"\u001b[39;00m\n\u001b[0;32m---> 45\u001b[0m     batch, slice_dict, inc_dict \u001b[39m=\u001b[39m collate(\n\u001b[1;32m     46\u001b[0m         \u001b[39mcls\u001b[39;49m,\n\u001b[1;32m     47\u001b[0m         data_list\u001b[39m=\u001b[39;49mdata_list,\n\u001b[1;32m     48\u001b[0m         increment\u001b[39m=\u001b[39;49m\u001b[39mTrue\u001b[39;49;00m,\n\u001b[1;32m     49\u001b[0m         add_batch\u001b[39m=\u001b[39;49m\u001b[39mTrue\u001b[39;49;00m,\n\u001b[1;32m     50\u001b[0m         follow_batch\u001b[39m=\u001b[39;49mfollow_batch,\n\u001b[1;32m     51\u001b[0m         exclude_keys\u001b[39m=\u001b[39;49mexclude_keys,\n\u001b[1;32m     52\u001b[0m     )\n\u001b[1;32m     54\u001b[0m     batch\u001b[39m.\u001b[39m_num_graphs \u001b[39m=\u001b[39m \u001b[39mlen\u001b[39m(data_list)\n\u001b[1;32m     55\u001b[0m     batch\u001b[39m.\u001b[39m_slice_dict \u001b[39m=\u001b[39m slice_dict\n",
      "File \u001b[0;32m~/anaconda3/envs/DIG-Stable/lib/python3.8/site-packages/torch_geometric/data/collate.py:97\u001b[0m, in \u001b[0;36mcollate\u001b[0;34m(cls, data_list, increment, add_batch, follow_batch, exclude_keys)\u001b[0m\n\u001b[1;32m     94\u001b[0m \u001b[39mif\u001b[39;00m (add_batch \u001b[39mand\u001b[39;00m \u001b[39misinstance\u001b[39m(stores[\u001b[39m0\u001b[39m], NodeStorage)\n\u001b[1;32m     95\u001b[0m         \u001b[39mand\u001b[39;00m stores[\u001b[39m0\u001b[39m]\u001b[39m.\u001b[39mnum_nodes \u001b[39mis\u001b[39;00m \u001b[39mnot\u001b[39;00m \u001b[39mNone\u001b[39;00m):\n\u001b[1;32m     96\u001b[0m     repeats \u001b[39m=\u001b[39m torch\u001b[39m.\u001b[39mtensor([store\u001b[39m.\u001b[39mnum_nodes \u001b[39mfor\u001b[39;00m store \u001b[39min\u001b[39;00m stores])\n\u001b[0;32m---> 97\u001b[0m     arange \u001b[39m=\u001b[39m torch\u001b[39m.\u001b[39;49marange(\u001b[39mlen\u001b[39;49m(stores))\n\u001b[1;32m     98\u001b[0m     out_store\u001b[39m.\u001b[39mbatch \u001b[39m=\u001b[39m arange\u001b[39m.\u001b[39mrepeat_interleave(repeats)\n\u001b[1;32m     99\u001b[0m     out_store\u001b[39m.\u001b[39mptr \u001b[39m=\u001b[39m cumsum(repeats)\n",
      "\u001b[0;31mKeyboardInterrupt\u001b[0m: "
     ]
    }
   ],
   "source": [
    "run3d = run()\n",
    "run3d.run(device, train_dataset, valid_dataset, test_dataset, \n",
    "        model, loss_func, evaluation, \n",
    "        epochs=2, batch_size=4, vt_batch_size=4, lr=0.0005, lr_decay_factor=0.5, lr_decay_step_size=15)"
   ]
  }
 ],
 "metadata": {
  "kernelspec": {
   "display_name": "DIG-Stable",
   "language": "python",
   "name": "python3"
  },
  "language_info": {
   "codemirror_mode": {
    "name": "ipython",
    "version": 3
   },
   "file_extension": ".py",
   "mimetype": "text/x-python",
   "name": "python",
   "nbconvert_exporter": "python",
   "pygments_lexer": "ipython3",
   "version": "3.8.16"
  },
  "orig_nbformat": 4,
  "vscode": {
   "interpreter": {
    "hash": "7cfb14014bc05b7b9c111b7cecf146c136c646b654c64df2272ca310a47a6635"
   }
  }
 },
 "nbformat": 4,
 "nbformat_minor": 2
}
