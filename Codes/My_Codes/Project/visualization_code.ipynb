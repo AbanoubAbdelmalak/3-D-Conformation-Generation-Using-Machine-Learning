{
 "cells": [
  {
   "attachments": {},
   "cell_type": "markdown",
   "metadata": {},
   "source": [
    "### This Notebook is made to help load and visualize the data using PyMol"
   ]
  },
  {
   "attachments": {},
   "cell_type": "markdown",
   "metadata": {},
   "source": [
    "1) Open PyMol in the sam environment where this notebook is used.\n",
    "<br>by sing this command in terminal: <br>\n",
    "\"PyMol -R\""
   ]
  },
  {
   "attachments": {},
   "cell_type": "markdown",
   "metadata": {},
   "source": [
    "2) Run the following code before any visualization based on the port number in PyMol desktop: "
   ]
  },
  {
   "cell_type": "code",
   "execution_count": 1,
   "metadata": {},
   "outputs": [],
   "source": [
    "from rdkit import Chem\n",
    "import pickle\n",
    "\n",
    "from ipywidgets import interact, fixed, IntSlider\n",
    "import ipywidgets\n",
    "import py3Dmol"
   ]
  },
  {
   "cell_type": "code",
   "execution_count": null,
   "metadata": {},
   "outputs": [],
   "source": [
    "import xmlrpc.client as xmlrpclib\n",
    "cmd = xmlrpclib.ServerProxy('http://localhost:9123')"
   ]
  },
  {
   "cell_type": "code",
   "execution_count": null,
   "metadata": {},
   "outputs": [],
   "source": [
    "data_path = 'trained_models/qm9/'\n",
    "#load all the generated mols\n",
    "with open(f'{data_path}test_mols.pkl', 'rb') as f:\n",
    "    test_mols = pickle.load(f)\n",
    "smiles = list(test_mols.keys())\n"
   ]
  },
  {
   "attachments": {},
   "cell_type": "markdown",
   "metadata": {},
   "source": [
    "Then we can select and show a specific molecule "
   ]
  },
  {
   "cell_type": "code",
   "execution_count": null,
   "metadata": {},
   "outputs": [],
   "source": [
    "#you can set the smi to select an eindex or by seleticng an exact smile values\n",
    "smi = smiles[0]\n",
    "#smi = 'O=C[C@]12O[C@H]1[C@H]1C[C@H]12'\n",
    "\n",
    "for idx, mol in enumerate(conformations_dict[smi], start=1):\n",
    "    cmd.read_molstr(Chem.MolToMolBlock(mol), f'{smi}_conf{idx}')\n",
    "    cmd.show('sticks')"
   ]
  },
  {
   "attachments": {},
   "cell_type": "markdown",
   "metadata": {},
   "source": [
    "Then the refernce moecule"
   ]
  },
  {
   "cell_type": "code",
   "execution_count": null,
   "metadata": {},
   "outputs": [],
   "source": [
    "data_path='data/QM9/qm9/'\n",
    "with open(f'{data_path}/qm9/{smi}.pickle', 'rb') as pkl_file:\n",
    "    ref_mol = pickle.load(pkl_file)\n"
   ]
  },
  {
   "attachments": {},
   "cell_type": "markdown",
   "metadata": {},
   "source": [
    "Finally load the refernce values"
   ]
  },
  {
   "cell_type": "code",
   "execution_count": null,
   "metadata": {},
   "outputs": [],
   "source": [
    "for i, con in enumerate(ref_mol['conformers']):\n",
    "    cmd.read_molstr(Chem.MolToMolBlock(con['rd_mol']), f'{smi}_conf{idx}')\n",
    "    cmd.show('sticks')"
   ]
  }
 ],
 "metadata": {
  "kernelspec": {
   "display_name": "GeoMol",
   "language": "python",
   "name": "python3"
  },
  "language_info": {
   "codemirror_mode": {
    "name": "ipython",
    "version": 3
   },
   "file_extension": ".py",
   "mimetype": "text/x-python",
   "name": "python",
   "nbconvert_exporter": "python",
   "pygments_lexer": "ipython3",
   "version": "3.7.10"
  },
  "orig_nbformat": 4,
  "vscode": {
   "interpreter": {
    "hash": "9ac36c371bfbe94a3fe04dc81f38179b087b32450de6df452f7281604eefb907"
   }
  }
 },
 "nbformat": 4,
 "nbformat_minor": 2
}
