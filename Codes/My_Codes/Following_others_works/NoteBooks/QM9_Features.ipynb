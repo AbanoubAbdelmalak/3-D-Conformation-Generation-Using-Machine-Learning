{
 "cells": [
  {
   "attachments": {},
   "cell_type": "markdown",
   "metadata": {},
   "source": [
    "<h1>Loading QM9 dataset and Create DataLoaders with features based on the GeoMol Paper<h1/>"
   ]
  },
  {
   "attachments": {},
   "cell_type": "markdown",
   "metadata": {},
   "source": [
    "In this Notebook, we recreate the featurization functions made by the GeoMol[] paper. We will try to fix the issues that happened and gain a deeper understanding of how it actually was implemented."
   ]
  },
  {
   "attachments": {},
   "cell_type": "markdown",
   "metadata": {},
   "source": [
    "### 1) Import necessary libraries"
   ]
  },
  {
   "cell_type": "code",
   "execution_count": 1,
   "metadata": {},
   "outputs": [],
   "source": [
    "import torch\n",
    "from torch_geometric.datasets import QM9\n",
    "import pickle\n",
    "from rdkit import Chem\n",
    "import torch_geometric.data.data\n",
    "from torch_geometric.data import Dataset, Data, Batch, InMemoryDataset\n",
    "from torch_geometric.loader import DataLoader\n",
    "#from torch.utils.data import DataLoader\n",
    "import os\n",
    "import os.path as osp\n",
    "import sys\n",
    "from typing import Any, Callable, Dict, Iterable, List, Optional, Tuple, Union\n",
    "from torch_geometric.data.collate import collate\n",
    "from tqdm import tqdm\n",
    "import glob\n",
    "from rdkit.Chem.rdchem import HybridizationType\n",
    "from rdkit.Chem.rdchem import BondType as BT\n",
    "from rdkit import Chem\n",
    "from torch.nn.functional import one_hot\n",
    "from torch import scatter\n",
    "import random\n",
    "from rdkit.Chem.rdchem import ChiralType\n",
    "import numpy as np\n",
    "from torchvision import transforms\n",
    "from torch import Tensor\n",
    "from dig.threedgraph.method import SphereNet \n",
    "from dig.threedgraph.evaluation import ThreeDEvaluator\n",
    "from dig.threedgraph.method import run"
   ]
  },
  {
   "cell_type": "code",
   "execution_count": 7,
   "metadata": {},
   "outputs": [],
   "source": [
    "sys.path.append('..')\n",
    "from Helper_Libraries.featurization_qm9 import qm9_data"
   ]
  },
  {
   "cell_type": "code",
   "execution_count": 2,
   "metadata": {},
   "outputs": [
    {
     "data": {
      "text/plain": [
       "device(type='cuda', index=0)"
      ]
     },
     "execution_count": 2,
     "metadata": {},
     "output_type": "execute_result"
    }
   ],
   "source": [
    "device = torch.device('cuda:0') if torch.cuda.is_available() else torch.device(\"cpu\")\n",
    "device"
   ]
  },
  {
   "attachments": {},
   "cell_type": "markdown",
   "metadata": {},
   "source": [
    "Now we load the QM9 dataset from https://github.com/klicperajo/dimenet/tree/master/data which is already processed"
   ]
  },
  {
   "cell_type": "code",
   "execution_count": 3,
   "metadata": {},
   "outputs": [],
   "source": [
    "datasettorch = QM9(root='../../../others_approaches/embeddings_nets/DIG-dig-stable/tutorials/KDD2022/dataset/')"
   ]
  },
  {
   "attachments": {},
   "cell_type": "markdown",
   "metadata": {},
   "source": [
    "Let's see how the data is represented in this form."
   ]
  },
  {
   "cell_type": "code",
   "execution_count": 6,
   "metadata": {},
   "outputs": [
    {
     "name": "stdout",
     "output_type": "stream",
     "text": [
      "Data(x=[5, 11], edge_index=[2, 8], edge_attr=[8, 4], y=[1, 19], pos=[5, 3], z=[5], name='gdb_1', idx=[1])\n"
     ]
    }
   ],
   "source": [
    "print(datasettorch[0])"
   ]
  },
  {
   "attachments": {},
   "cell_type": "markdown",
   "metadata": {},
   "source": [
    "we can access the SMILES rpresentation using the \"name\" feature. We can also add different featrures to the nodes as we want. According to the code provided by torch_geometric.datasets.qm9 source, not all features from the GeoMol paper are used. so we need to be able to create data objects containing all the necessary features. So we need to create a function that iterates through all the qm9 dataset and turns them into data objects suitable for dataloader objects. And define the input dimenssion of the models based on the data."
   ]
  },
  {
   "attachments": {},
   "cell_type": "markdown",
   "metadata": {},
   "source": [
    "Let's first investigate the data in their folders."
   ]
  },
  {
   "cell_type": "code",
   "execution_count": 4,
   "metadata": {},
   "outputs": [],
   "source": [
    "path_to_data = '../../../others_approaches/conformation_generation/GeoMol/data/QM9/'\n"
   ]
  },
  {
   "attachments": {},
   "cell_type": "markdown",
   "metadata": {},
   "source": [
    "Now we take a look at the data"
   ]
  },
  {
   "cell_type": "code",
   "execution_count": null,
   "metadata": {},
   "outputs": [],
   "source": [
    "mol_file = open(path_to_data+'/c1cc2c(cn1)CCC2.pickle', 'rb')\n",
    "\n",
    "# dump information to that file\n",
    "data = pickle.load(mol_file)\n",
    "\n",
    "# close the file\n",
    "mol_file.close()\n",
    "\n",
    "print(data.keys())\n",
    "mol = data['conformers'][0]['rd_mol']\n",
    "print(Chem.MolToMolBlock(mol))"
   ]
  },
  {
   "attachments": {},
   "cell_type": "markdown",
   "metadata": {},
   "source": [
    "### 2) Create an InMemoryDataset class\n",
    "#### InMemoryDataset class is a Pytorch Geometric data structure that is used to store graph-based datasets. It is perfect for graph neural networks. It stores all the different graphs in one graph whith a map to access each one individually.\n",
    "\n",
    "This class will utilise a custom function called \"featurize()\" to build the graph objects with the desired set of features."
   ]
  },
  {
   "attachments": {},
   "cell_type": "markdown",
   "metadata": {},
   "source": [
    "So we need to have our own DataSet class that contains all data objects of qm9 molecules"
   ]
  },
  {
   "cell_type": "code",
   "execution_count": 5,
   "metadata": {},
   "outputs": [
    {
     "name": "stderr",
     "output_type": "stream",
     "text": [
      "Processing...\n",
      "  0%|          | 1/133232 [00:00<05:25, 409.28it/s]\n"
     ]
    },
    {
     "name": "stdout",
     "output_type": "stream",
     "text": [
      "{'geom_id': 121529326, 'set': 1, 'degeneracy': 1, 'totalenergy': -5.20677199, 'relativeenergy': 0.0, 'boltzmannweight': 1.0, 'conformerweights': [1.0], 'rd_mol': <rdkit.Chem.rdchem.Mol object at 0x7fa65f594630>}\n",
      "{'geom_id': 122742594, 'set': 1, 'degeneracy': 1, 'totalenergy': -9.42852736, 'relativeenergy': 0.0, 'boltzmannweight': 1.0, 'conformerweights': [1.0], 'rd_mol': <rdkit.Chem.rdchem.Mol object at 0x7fa65f5947c0>}\n"
     ]
    },
    {
     "ename": "NameError",
     "evalue": "name 'y' is not defined",
     "output_type": "error",
     "traceback": [
      "\u001b[0;31m---------------------------------------------------------------------------\u001b[0m",
      "\u001b[0;31mNameError\u001b[0m                                 Traceback (most recent call last)",
      "Cell \u001b[0;32mIn[5], line 1\u001b[0m\n\u001b[0;32m----> 1\u001b[0m qm9_set \u001b[39m=\u001b[39m qm9_data(root\u001b[39m=\u001b[39;49m path_to_data)\n",
      "File \u001b[0;32m~/Documents/masters_work/repo/masters_project/Codes/My_Codes/Following_others_works/NoteBooks/../Helper_Libraries/featurization_qm9.py:58\u001b[0m, in \u001b[0;36mqm9_data.__init__\u001b[0;34m(self, root, transform, pre_transform, pre_filter)\u001b[0m\n\u001b[1;32m     56\u001b[0m \u001b[39mself\u001b[39m\u001b[39m.\u001b[39mall_files \u001b[39m=\u001b[39m \u001b[39msorted\u001b[39m(glob\u001b[39m.\u001b[39mglob(osp\u001b[39m.\u001b[39mjoin(root\u001b[39m+\u001b[39m\u001b[39m'\u001b[39m\u001b[39m/qm9/\u001b[39m\u001b[39m'\u001b[39m, \u001b[39m'\u001b[39m\u001b[39m*.pickle\u001b[39m\u001b[39m'\u001b[39m)))\n\u001b[1;32m     57\u001b[0m \u001b[39mself\u001b[39m\u001b[39m.\u001b[39mpickle_files \u001b[39m=\u001b[39m [f \u001b[39mfor\u001b[39;00m i, f \u001b[39min\u001b[39;00m \u001b[39menumerate\u001b[39m(\u001b[39mself\u001b[39m\u001b[39m.\u001b[39mall_files)]\n\u001b[0;32m---> 58\u001b[0m \u001b[39msuper\u001b[39;49m()\u001b[39m.\u001b[39;49m\u001b[39m__init__\u001b[39;49m(root, transform, pre_transform, pre_filter)\n\u001b[1;32m     59\u001b[0m \u001b[39mself\u001b[39m\u001b[39m.\u001b[39mdata, \u001b[39mself\u001b[39m\u001b[39m.\u001b[39mslices \u001b[39m=\u001b[39m torch\u001b[39m.\u001b[39mload(\u001b[39mself\u001b[39m\u001b[39m.\u001b[39mprocessed_paths[\u001b[39m0\u001b[39m])\n",
      "File \u001b[0;32m~/anaconda3/envs/DIG-Stable/lib/python3.8/site-packages/torch_geometric/data/in_memory_dataset.py:57\u001b[0m, in \u001b[0;36mInMemoryDataset.__init__\u001b[0;34m(self, root, transform, pre_transform, pre_filter)\u001b[0m\n\u001b[1;32m     53\u001b[0m \u001b[39mdef\u001b[39;00m \u001b[39m__init__\u001b[39m(\u001b[39mself\u001b[39m, root: Optional[\u001b[39mstr\u001b[39m] \u001b[39m=\u001b[39m \u001b[39mNone\u001b[39;00m,\n\u001b[1;32m     54\u001b[0m              transform: Optional[Callable] \u001b[39m=\u001b[39m \u001b[39mNone\u001b[39;00m,\n\u001b[1;32m     55\u001b[0m              pre_transform: Optional[Callable] \u001b[39m=\u001b[39m \u001b[39mNone\u001b[39;00m,\n\u001b[1;32m     56\u001b[0m              pre_filter: Optional[Callable] \u001b[39m=\u001b[39m \u001b[39mNone\u001b[39;00m):\n\u001b[0;32m---> 57\u001b[0m     \u001b[39msuper\u001b[39;49m()\u001b[39m.\u001b[39;49m\u001b[39m__init__\u001b[39;49m(root, transform, pre_transform, pre_filter)\n\u001b[1;32m     58\u001b[0m     \u001b[39mself\u001b[39m\u001b[39m.\u001b[39mdata \u001b[39m=\u001b[39m \u001b[39mNone\u001b[39;00m\n\u001b[1;32m     59\u001b[0m     \u001b[39mself\u001b[39m\u001b[39m.\u001b[39mslices \u001b[39m=\u001b[39m \u001b[39mNone\u001b[39;00m\n",
      "File \u001b[0;32m~/anaconda3/envs/DIG-Stable/lib/python3.8/site-packages/torch_geometric/data/dataset.py:88\u001b[0m, in \u001b[0;36mDataset.__init__\u001b[0;34m(self, root, transform, pre_transform, pre_filter)\u001b[0m\n\u001b[1;32m     85\u001b[0m     \u001b[39mself\u001b[39m\u001b[39m.\u001b[39m_download()\n\u001b[1;32m     87\u001b[0m \u001b[39mif\u001b[39;00m \u001b[39m'\u001b[39m\u001b[39mprocess\u001b[39m\u001b[39m'\u001b[39m \u001b[39min\u001b[39;00m \u001b[39mself\u001b[39m\u001b[39m.\u001b[39m\u001b[39m__class__\u001b[39m\u001b[39m.\u001b[39m\u001b[39m__dict__\u001b[39m\u001b[39m.\u001b[39mkeys():\n\u001b[0;32m---> 88\u001b[0m     \u001b[39mself\u001b[39;49m\u001b[39m.\u001b[39;49m_process()\n",
      "File \u001b[0;32m~/anaconda3/envs/DIG-Stable/lib/python3.8/site-packages/torch_geometric/data/dataset.py:171\u001b[0m, in \u001b[0;36mDataset._process\u001b[0;34m(self)\u001b[0m\n\u001b[1;32m    168\u001b[0m \u001b[39mprint\u001b[39m(\u001b[39m'\u001b[39m\u001b[39mProcessing...\u001b[39m\u001b[39m'\u001b[39m, file\u001b[39m=\u001b[39msys\u001b[39m.\u001b[39mstderr)\n\u001b[1;32m    170\u001b[0m makedirs(\u001b[39mself\u001b[39m\u001b[39m.\u001b[39mprocessed_dir)\n\u001b[0;32m--> 171\u001b[0m \u001b[39mself\u001b[39;49m\u001b[39m.\u001b[39;49mprocess()\n\u001b[1;32m    173\u001b[0m path \u001b[39m=\u001b[39m osp\u001b[39m.\u001b[39mjoin(\u001b[39mself\u001b[39m\u001b[39m.\u001b[39mprocessed_dir, \u001b[39m'\u001b[39m\u001b[39mpre_transform.pt\u001b[39m\u001b[39m'\u001b[39m)\n\u001b[1;32m    174\u001b[0m torch\u001b[39m.\u001b[39msave(_repr(\u001b[39mself\u001b[39m\u001b[39m.\u001b[39mpre_transform), path)\n",
      "File \u001b[0;32m~/Documents/masters_work/repo/masters_project/Codes/My_Codes/Following_others_works/NoteBooks/../Helper_Libraries/featurization_qm9.py:66\u001b[0m, in \u001b[0;36mqm9_data.process\u001b[0;34m(self)\u001b[0m\n\u001b[1;32m     64\u001b[0m counter \u001b[39m=\u001b[39m \u001b[39m0\u001b[39m\n\u001b[1;32m     65\u001b[0m \u001b[39mfor\u001b[39;00m i \u001b[39min\u001b[39;00m tqdm(\u001b[39mself\u001b[39m\u001b[39m.\u001b[39mpickle_files):\n\u001b[0;32m---> 66\u001b[0m     data \u001b[39m=\u001b[39m featurization(i, counter)\n\u001b[1;32m     67\u001b[0m     \u001b[39mif\u001b[39;00m \u001b[39mself\u001b[39m\u001b[39m.\u001b[39mpre_filter \u001b[39mis\u001b[39;00m \u001b[39mnot\u001b[39;00m \u001b[39mNone\u001b[39;00m \u001b[39mand\u001b[39;00m \u001b[39mnot\u001b[39;00m \u001b[39mself\u001b[39m\u001b[39m.\u001b[39mpre_filter(data):\n\u001b[1;32m     68\u001b[0m         \u001b[39mcontinue\u001b[39;00m\n",
      "File \u001b[0;32m~/Documents/masters_work/repo/masters_project/Codes/My_Codes/Following_others_works/NoteBooks/../Helper_Libraries/featurization_qm9.py:251\u001b[0m, in \u001b[0;36mfeaturization\u001b[0;34m(mol_path, counter)\u001b[0m\n\u001b[1;32m    247\u001b[0m data_list \u001b[39m=\u001b[39m []\n\u001b[1;32m    248\u001b[0m \u001b[39mfor\u001b[39;00m i \u001b[39min\u001b[39;00m pos:\n\u001b[1;32m    249\u001b[0m     data \u001b[39m=\u001b[39m Data(x\u001b[39m=\u001b[39mx, z\u001b[39m=\u001b[39mz, pos\u001b[39m=\u001b[39mi, edge_index\u001b[39m=\u001b[39medge_index, edge_attr\u001b[39m=\u001b[39medge_attr,  \n\u001b[1;32m    250\u001b[0m         chiral_tag\u001b[39m=\u001b[39mchiral_tag, name\u001b[39m=\u001b[39mname, boltzmann_weight\u001b[39m=\u001b[39mconf[\u001b[39m'\u001b[39m\u001b[39mboltzmannweight\u001b[39m\u001b[39m'\u001b[39m],\n\u001b[0;32m--> 251\u001b[0m         degeneracy\u001b[39m=\u001b[39mconf[\u001b[39m'\u001b[39m\u001b[39mdegeneracy\u001b[39m\u001b[39m'\u001b[39m], mol\u001b[39m=\u001b[39mcorrect_mol, pos_mask\u001b[39m=\u001b[39mpos_mask, y\u001b[39m=\u001b[39my)\n\u001b[1;32m    252\u001b[0m     data\u001b[39m.\u001b[39medge_index_dihedral_pairs \u001b[39m=\u001b[39m get_dihedral_pairs(data\u001b[39m.\u001b[39medge_index, data\u001b[39m=\u001b[39mdata)\n\u001b[1;32m    253\u001b[0m     data_list\u001b[39m.\u001b[39mappend(data)\n",
      "\u001b[0;31mNameError\u001b[0m: name 'y' is not defined"
     ]
    }
   ],
   "source": [
    "qm9_set = qm9_data(root= path_to_data)"
   ]
  },
  {
   "cell_type": "code",
   "execution_count": null,
   "metadata": {},
   "outputs": [],
   "source": [
    "print(train_dataset.data)"
   ]
  },
  {
   "cell_type": "code",
   "execution_count": null,
   "metadata": {},
   "outputs": [],
   "source": [
    "loader = DataLoader(train_dataset, batch_size=2)"
   ]
  },
  {
   "cell_type": "code",
   "execution_count": null,
   "metadata": {},
   "outputs": [],
   "source": [
    "for step, batch_data in enumerate(tqdm(loader)):\n",
    "    print(type(batch_data.y))\n"
   ]
  },
  {
   "cell_type": "code",
   "execution_count": null,
   "metadata": {},
   "outputs": [],
   "source": [
    "target = 'boltzmann_weight' # mu, alpha, homo, lumo, gap, r2, zpve, U0, U, H, G, Cv\n",
    "qm9_set.data.y = qm9_set.data[target]\n",
    "\n",
    "\n",
    "split_idx = qm9_set.get_idx_split(len(qm9_set.data.y), train_size=300, valid_size=100, seed=42)\n",
    "\n",
    "train_dataset, valid_dataset, test_dataset = qm9_set[split_idx['train']], qm9_set[split_idx['valid']], qm9_set[split_idx['test']]\n"
   ]
  },
  {
   "cell_type": "code",
   "execution_count": null,
   "metadata": {},
   "outputs": [],
   "source": [
    "model = SphereNet(energy_and_force=False, cutoff=5.0, num_layers=4, \n",
    "        hidden_channels=128, out_channels=1, int_emb_size=64, \n",
    "        basis_emb_size_dist=8, basis_emb_size_angle=8, basis_emb_size_torsion=8, out_emb_channels=256, \n",
    "        num_spherical=3, num_radial=6, envelope_exponent=5, \n",
    "        num_before_skip=1, num_after_skip=2, num_output_layers=3, use_node_features=True\n",
    "        )\n",
    "loss_func = torch.nn.L1Loss()\n",
    "evaluation = ThreeDEvaluator()"
   ]
  },
  {
   "cell_type": "code",
   "execution_count": null,
   "metadata": {},
   "outputs": [],
   "source": [
    "print(type(train_dataset))                                    "
   ]
  },
  {
   "cell_type": "code",
   "execution_count": null,
   "metadata": {},
   "outputs": [],
   "source": [
    "run3d = run()\n",
    "run3d.run(device, train_dataset, valid_dataset, test_dataset, \n",
    "        model, loss_func, evaluation, \n",
    "        epochs=20, batch_size=4, vt_batch_size=4, lr=0.0005, lr_decay_factor=0.5, lr_decay_step_size=15)"
   ]
  },
  {
   "cell_type": "code",
   "execution_count": null,
   "metadata": {},
   "outputs": [],
   "source": []
  }
 ],
 "metadata": {
  "kernelspec": {
   "display_name": "DIG-Stable",
   "language": "python",
   "name": "python3"
  },
  "language_info": {
   "codemirror_mode": {
    "name": "ipython",
    "version": 3
   },
   "file_extension": ".py",
   "mimetype": "text/x-python",
   "name": "python",
   "nbconvert_exporter": "python",
   "pygments_lexer": "ipython3",
   "version": "3.8.16 (default, Mar  2 2023, 03:21:46) \n[GCC 11.2.0]"
  },
  "orig_nbformat": 4,
  "vscode": {
   "interpreter": {
    "hash": "7cfb14014bc05b7b9c111b7cecf146c136c646b654c64df2272ca310a47a6635"
   }
  }
 },
 "nbformat": 4,
 "nbformat_minor": 2
}
