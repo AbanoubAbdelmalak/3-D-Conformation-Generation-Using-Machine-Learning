{
 "cells": [
  {
   "cell_type": "markdown",
   "metadata": {},
   "source": [
    "### let's look at some of the (hopefully) pretty molecules we generate!"
   ]
  },
  {
   "cell_type": "code",
   "execution_count": 1,
   "metadata": {},
   "outputs": [],
   "source": [
    "from rdkit import Chem\n",
    "import pickle\n",
    "\n",
    "from ipywidgets import interact, fixed, IntSlider\n",
    "import ipywidgets\n",
    "import py3Dmol\n",
    "\n",
    "def show_mol(mol, view, grid):\n",
    "    mb = Chem.MolToMolBlock(mol)\n",
    "    view.removeAllModels(viewer=grid)\n",
    "    view.addModel(mb,'sdf', viewer=grid)\n",
    "    view.setStyle({'model':0},{'stick': {}}, viewer=grid)\n",
    "    view.zoomTo(viewer=grid)\n",
    "    return view\n",
    "\n",
    "def view_single(mol):\n",
    "    view = py3Dmol.view(width=600, height=600, linked=False, viewergrid=(1,1))\n",
    "    show_mol(mol, view, grid=(0, 0))\n",
    "    return view\n",
    "\n",
    "def MolTo3DView(mol, size=(600, 600), style=\"stick\", surface=False, opacity=0.5, confId=0):\n",
    "    \"\"\"Draw molecule in 3D\n",
    "    \n",
    "    Args:\n",
    "    ----\n",
    "        mol: rdMol, molecule to show\n",
    "        size: tuple(int, int), canvas size\n",
    "        style: str, type of drawing molecule\n",
    "               style can be 'line', 'stick', 'sphere', 'carton'\n",
    "        surface, bool, display SAS\n",
    "        opacity, float, opacity of surface, range 0.0-1.0\n",
    "    Return:\n",
    "    ----\n",
    "        viewer: py3Dmol.view, a class for constructing embedded 3Dmol.js views in ipython notebooks.\n",
    "    \"\"\"\n",
    "    assert style in ('line', 'stick', 'sphere', 'carton')\n",
    "    mblock = Chem.MolToMolBlock(mol[confId])\n",
    "    viewer = py3Dmol.view(width=size[0], height=size[1])\n",
    "    viewer.addModel(mblock, 'mol')\n",
    "    viewer.setStyle({style:{}})\n",
    "    if surface:\n",
    "        viewer.addSurface(py3Dmol.SAS, {'opacity': opacity})\n",
    "    viewer.zoomTo()\n",
    "    return viewer\n",
    "\n",
    "def conf_viewer(idx, mol):\n",
    "    return MolTo3DView(mol, confId=idx).show()"
   ]
  },
  {
   "cell_type": "code",
   "execution_count": 2,
   "metadata": {},
   "outputs": [],
   "source": [
    "with open('trained_models/qm9/test_mols.pkl', 'rb') as f:\n",
    "    test_mols = pickle.load(f)\n",
    "smiles = list(test_mols.keys())"
   ]
  },
  {
   "cell_type": "code",
   "execution_count": 4,
   "metadata": {},
   "outputs": [
    {
     "name": "stdout",
     "output_type": "stream",
     "text": [
      "C#CC#C[C@@H](CC)CO\n"
     ]
    },
    {
     "data": {
      "image/png": "[encoded data removed]",
      "text/plain": [
       "<rdkit.Chem.rdchem.Mol at 0x7f41b9ab23a0>"
      ]
     },
     "metadata": {},
     "output_type": "display_data"
    },
    {
     "data": {
      "application/vnd.jupyter.widget-view+json": {
       "model_id": "28fc60ea743f4e2c97af4edd5ef038c7",
       "version_major": 2,
       "version_minor": 0
      },
      "text/plain": [
       "interactive(children=(IntSlider(value=0, description='idx', max=57), Output()), _dom_classes=('widget-interact…"
      ]
     },
     "metadata": {},
     "output_type": "display_data"
    }
   ],
   "source": [
    "test_idx = 0\n",
    "\n",
    "smi = smiles[test_idx]\n",
    "print(smi)\n",
    "\n",
    "mol_graph = Chem.MolFromSmiles(smi)\n",
    "display(mol_graph)\n",
    "\n",
    "mols = test_mols[smi]\n",
    "interact(conf_viewer, idx=ipywidgets.IntSlider(min=0, max=len(mols)-1, step=1), mol=fixed(mols));"
   ]
  },
  {
   "cell_type": "code",
   "execution_count": 52,
   "metadata": {},
   "outputs": [],
   "source": [
    "import pickle\n",
    "\n",
    "# Load the conformations from the .pkl file\n",
    "with open('test_0/test_mols.pkl', 'rb') as pkl_file:\n",
    "    conformations_dict = pickle.load(pkl_file)\n",
    "\n"
   ]
  },
  {
   "cell_type": "code",
   "execution_count": 55,
   "metadata": {},
   "outputs": [
    {
     "name": "stdout",
     "output_type": "stream",
     "text": [
      "['C#CC#C[C@@H](CC)CO', 'C#CC#C[C@H](O)[C@H]1CN1', 'C#CC(=O)CCCCC', 'C#CC(=O)C[C@H](O)C#C', 'C#CC(=O)C[C@]1(C)CN1', 'C#CC(=O)OCCCC', 'C#CC(=O)[C@@H]1CCN1C', 'C#CC(C)(C)OCC#N', 'C#C[C@]1(C#C)CNC=N1', 'C#CC1(C)CC=CC1', 'C#CC1=CCCC1=O', 'C#CC1=CCCOC1', 'C#CC1=CCOC[C@@H]1O', 'C#CC1=C[C@@H](C)NC1=O', 'C#CC1=C[C@H](O)C[C@@H]1C', 'C#CCC(C)(C)CCC', 'C#CCC1(C)OCCO1', 'C#CCC1=C[C@H]2N[C@H]2C1', 'C#CCC[C@@H](C=O)CC', 'C#CCC[C@@H]1CNC1=O', 'C#CCC[C@@](C)(O)C#N', 'C#CCC[C@](C)(O)CC', 'C#CCN=C(C)NC=O', 'C#CCOC(C#C)=NC', 'C#CCOC(C)(C)C=O', 'C#CCOCC', 'C#CCO[C@@H](C#C)CO', 'C#CC[C@@H]1COC1=NC', 'C#CC[C@@](C)(N)C(=O)O', 'C#CC[C@H](C)[C@@H](C)O', 'C#CC[C@H](O)C(=O)C=O', 'C#CC[C@H](O)[C@@H]1N[C@@H]1C', 'C#CC[C@]1(CO)CCO1', 'C#C[C@@H](C#CC#N)C=O', 'C#C[C@@H](C#N)C#CCC', 'C#C[C@@H](C)C=O', 'C#C[C@@H](CCC)NC=O', 'C#C[C@@H]1C=C[C@@H](O)CC1', 'C#C[C@@H]1C=C[C@@H]2O[C@@H]2C1', 'C#C[C@@H]1CC(=O)O[C@@H]1C', 'C#C[C@@H]1C[C@@H]1CCCO', 'C#C[C@@H]1C[C@@]1(O)CC#N', 'C#C[C@@H]1C[C@H](O)C[C@@H]1C', 'C#C[C@@H]1C[C@]12C[C@H](C)C2', 'C#C[C@@H]1NC(=O)C1(C)C', 'C#C[C@@H]1NC[C@@]1(C)C#N', 'C#C[C@@H]1O[C@@H]2C[C@H]1C2=O', 'C#C[C@@H]1[C@@H]2C[C@H]1O2', 'C#C[C@@H]1[C@@H]2OC(=O)O[C@@H]21', 'C#C[C@@H]1[C@H]2[C@@H](O)[C@H]3[C@@H]1[C@@H]23', 'C#C[C@@](C)(O)C1CC1', 'C#C[C@@](N)(C#N)CCC', 'C#C[C@@]1(C#N)N[C@H]1C#N', 'C#C[C@@]1(C)[C@H]2C[C@]1(C)C2', 'C#C[C@@]1(CC=O)C[C@@H]1C', 'C#C[C@@]12C(=O)N[C@@H]1[C@@H]2O', 'C#C[C@@]12CCC(=O)[C@@H]1C2', 'C#C[C@@]12COC(=O)[C@@H]1O2', 'C#C[C@@]12C[C@@H](O1)[C@@H]2CO', 'C#C[C@H](C)c1cnoc1', 'C#C[C@H](C=O)CCC', 'C#C[C@H](O)[C@H](O)CC', 'C#C[C@H](O)[C@H]1[C@@H](C)[C@H]1C', 'C#C[C@H]1C(=O)[C@@H]2C[C@H]1O2', 'C#C[C@H]1CN2C[C@@]12C#N', 'C#C[C@H]1C[C@H]1C#C', 'C#C[C@H]1C[C@H]1C1CC1', 'C#C[C@H]1[C@@H](C)C[C@H]2CN21', 'C#C[C@H]1[C@@H](O)CC12CC2', 'C#C[C@](O)(CC)C(C)=O', 'C#C[C@]1(C)C[C@H]1CC=O', 'C#C[C@]1(C)[C@@H](O)[C@H]2CN21', 'C#C[C@]1(CCC)C[C@H]1C', 'C#C[C@]1(CO)C[C@H]1C#N', 'C#C[C@]1(O)C=C[C@H]2N[C@H]21', 'C#C[C@]1(O)[C@@H](N)[C@H]1C#N', 'C#C[C@]1(OC)C[C@@H](C)C1', 'C#C[C@]12CC(=O)CN1C2', 'C#C[C@]12CN[C@H]1[C@H]2C#N', 'C#C[C@]12C[C@@H](C)C[C@H]1C2', 'C#C[C@]12C[C@@]1(C)[C@@H]1CN12', 'C#C[C@]12C[C@]3(CO3)[C@H]1N2', 'C#C[C@]12O[C@@H]3[C@@H](C)[C@H]1[C@@H]32', '[H]/N=C(\\\\C#C)O[C@H](C)C#C', 'C#Cc1cc(CO)c[nH]1', 'C#Cc1ccc(CO)o1', 'C#Cc1cccc(C)n1', 'C#Cc1ncc(N)n1C', 'C#Cc1ncn[nH]c1=O', 'C#Cc1nocc1CO', 'C#Cc1nonc1C#N', 'C1=C(CC2CC2)CCC1', 'C1=C2CC[C@]23O[C@@H]3CC1', 'C1=C2C[C@@H]3C[C@@H]3[C@@H]2OC1', 'C1=CCN=COCC=C1', 'C1=C[C@@H]2[C@H](C1)C21CCC1', 'C1=C[C@@]23C[C@@H]2C[C@@H](C1)O3', 'C1=C[C@H]2C=C[C@@H]1O2', 'C1=C[C@H]2C[C@]23CC[C@H]1C3', 'C1=C[C@H]2[C@H]3C[C@@H]1[C@@H]1[C@H]3N21', 'C1=Cc2c[nH]cc2C1', 'C1=Cc2cn[nH]c2NC1', 'C1=NC2(CCO1)COC2', 'C1=NCCN=COCO1', 'C1=NCCO[C@@H]2C[C@@H]2O1', 'C1=Nc2cocc2CO1', 'C1CC(CC[C@H]2CO2)C1', 'C1CC12CC[C@]1(CO1)C2', 'C1CC[C@H]2CO[C@@H](C1)C2', 'C1COC[C@@H]([C@H]2CO2)C1', 'C1COc2nonc2N1', 'C1C[C@@H]2[C@@H]3C[C@H]1C[C@@H]32', 'C1C[C@@H]2[C@H]3C[C@H](C3)[C@H]12', 'C1C[C@@]23CO[C@@H]2C[C@@H]1C3', 'C1C[C@H]2CO[C@@H](C1)O2', 'C1C[C@H]2[C@@H]3O[C@H]2CO[C@H]13', 'C1C[C@H]2[C@H]3CN=C(O1)N23', 'C1C[C@H]2[C@H]3[C@@H]4O[C@H]3[C@]24C1', 'C1C[C@]23C[C@@H]4C[C@H]2N4[C@H]13', 'C1C[C@]23C[C@H](C2)[C@@H]2[C@H]1[C@@H]23', 'C1N[C@@]12C[C@@H]1[C@H]3[C@@H]1O[C@H]32', 'C1N[C@@]12[C@H]1CO[C@@H]2OC1', 'C1OC[C@@H]2[C@@H]3C[C@H]1[C@H]23', 'C1OC[C@H]2[C@H]3CN=C1N32', 'C1O[C@H]2C[C@@H](O1)[C@@H]1N[C@H]21', 'C1O[C@H]2[C@H]3[C@@H]4O[C@H]3[C@]24O1', 'C1[C@@H]2N3[C@H]4[C@@H]3[C@@]23CO[C@]143', 'C1[C@@H]2O[C@H]3[C@H]4O[C@@H]2[C@H]4[C@@H]13', 'C1[C@@H]2[C@H]3O[C@@H]2[C@H]2[C@@H]1[C@@H]32', 'C1[C@H]2C[C@]34CC[C@]3(C4)[C@@H]12', 'C1[C@H]2C[C@]34C[C@H]([C@H]3O2)N14', 'C1[C@H]2[C@@H]3N[C@@H]3[C@@H]1[C@@]21CO1', 'CC#CCC', 'CC#CC[C@H]1COC=N1', 'CC#CCc1cnoc1', 'CC#C[C@H](N)C(=O)NC', 'CC#C[C@H]1CO1', 'CC#C[C@H]1NC12COC2', 'CC#C[C@H]1N[C@@H](C)C1=O', 'CC#C[C@]12C[C@H](CO1)C2', 'CC#Cc1[nH]cnc1N', '[H]/N=C(\\\\C)N(C=O)CCO', '[H]/N=C(\\\\C)Nc1cnno1', 'CC(=NO)[C@H]1C[C@H](C)C1', 'CC(=NO)[C@H]1[C@H]2CC[C@H]21', 'CC(=O)C(=O)C1CC1', 'CC(=O)C(=O)C[C@@H](C)O', 'CC(=O)C1(O)CN(C)C1', 'CC(=O)CC1=NCCO1', 'CC(=O)CC[C@@H]1CN1C', 'CC(=O)COC[C@H]1CN1', '[H]/N=C/N(C(C)=O)C(C)=O', 'CC(=O)NC(=O)CC=O', 'CC(=O)OC[C@@H](O)C=O', 'CC(=O)O[C@H](C)[C@@H](C)O', 'CC(=O)O[C@H]1[C@H]2CC[C@H]21', 'CC(=O)[C@@]1(C)C[C@H]2C[C@H]21', 'CC(=O)[C@H]1[C@H]2CN=CN21', 'CC(=O)c1[nH]ncc1N', 'CC(C)(C#N)C[C@H]1CO1', 'CC(C)(C)[C@@]1(CO)CO1', 'CC(C)(C)[C@H]1CCC1=O', 'CC(C)(C=O)NCC#N', 'CC(C)(CO)[C@@]1(C)CO1', 'CC(C)(O)C1(C)COC1', 'CC(C)C(C)(C)NC=O', 'CC(C)CC[C@@]1(C)CO1', 'CC(C)CN(C)C(N)=O', 'CC(C)CN1C[C@H]1CO', 'CC(C)COCCC=O', 'CC(C)C[C@H]1COCO1', 'CC(C)O[C@@H](C)[C@@H](C)O', 'CC(C)Oc1cnno1', 'CC(C)[C@@H](C)OCCO', 'CC(C)[C@@H](N)CC(=O)O', 'CC(C)[C@@]1(C#N)C[C@H]1C', 'CC(C)[C@H]1C[C@@](C)(O)C1', 'CC(C)[C@H]1[C@H]2C[C@H]2[C@H]1C', '[H]/N=C(\\\\OCC=O)[C@@H](C)C', 'CC(C)c1nc[nH]n1', 'CC(C)c1ncc(O)[nH]1', 'CC(C)c1nccn1C', 'CC1(C)CN1[C@H]1C[C@H]1O', 'CC1(C)CNC(=O)C1=O', 'CC1(C)CO[C@]1(C)CO', 'CC1(C)N2C[C@H]2C12CC2', '[H]/N=C1/CCO[C@@](C)(C)O1', 'CC1(C)OC[C@H]1C=O', 'CC1(C)O[C@@]2(C)CC[C@@H]12', 'CC1(C)[C@H](C=O)[C@@H]2N[C@@H]21', 'CC1(C)[C@H]2CC(=O)[C@@H]1O2', 'CC1(C)[C@H]2N[C@H]2[C@H]2CN21', 'CC1(CC=O)CC(=O)C1', 'CC1(CO)CC=CC1', 'CC1(OC=O)CC(=O)C1', 'CC1([C@H]2[C@H]3CCN23)CC1', 'CC1=C(C#N)CC(=O)N1', 'CC1=C(C)COCOC1', 'CC1=C(C)N(C)C(=O)C1', 'CC1=C(C)[C@H](C#N)OC1', 'CC1=C(C)[C@H]2C[C@@H]1[C@@H]2O', '[H]/N=c1\\\\cnc(O)c(C)o1', '[H]/N=c1\\\\cn[nH]c(N)c1C', 'CC1=C2COC[C@H]2CC1', 'CC1=CC(=O)OC1', 'CC1=CC=CC(=O)CC1', 'CC1=CCOC(=O)OC1', 'CC1=CCOCC1=NO', 'CC1=CCO[C@@]2(C)C[C@@H]12', 'CC1=CC[C@@H]2C[C@H]1C2=O', 'CC1=CC[C@@](C)(CO)C1', 'CC1=CC[C@H]2OC[C@@]12C', 'CC1=C[C@@H]2C[C@H](C=C1)O2', 'CC1=C[C@H](C)N(C=O)C1', 'CC1=C[C@H](C)[C@]2(CO2)C1', 'CC1=C[C@H]2C[C@H]2C1=O', 'CC1=C[C@H]2C[C@H]3C[C@@H]1[C@@H]23', 'CC1=C[C@H]2N[C@@]2(C)C1=O', 'CC1=C[C@H]2[C@H]3C=C[C@@H]1N23', 'CC1=NCC(=O)OCO1', 'CC1=NCCC(=O)O1', 'CC1=NC[C@@]2(O)C[C@H]2O1', 'CC1=N[C@@]2(C)[C@@H](C)[C@H]2O1', 'CC1=N[C@@]2(CO1)C[C@@H]2C', 'CC1=N[C@H](C=O)CCO1', 'CC1CN([C@@H](C)C#N)C1', 'CCC#CC(C)C', 'CCC#CC(C=O)C=O', 'CCC#CCCNC=O', 'CCC#C[C@@H](C)C=O', 'CCC(=O)C(C)C', 'CCC(=O)NCC(C)=O', 'CCC(=O)N[C@H]1C[C@H]1C', 'CCC(=O)c1cocn1', 'CCC(C)(C)OC(C)=O', 'CCC(C)CC', 'CCC(CC)CC(C)C', 'CCC1(CC)C=CCO1', 'CCC1=CNC(=O)[C@H]1C', 'CCC1=C[C@@](C)(O)CC1', '[H]/N=c1/ccc(CC)no1', 'CCC1=N[C@@H](CO)CO1', '[H]/N=C(/CCC)NC(C)=O', 'CCCCCC(C)=O', 'CCCCCC1CC1', 'CCCCC[C@H]1CO1', 'CCCC[C@H](C#N)NC', 'CCCC[C@H]1[C@@H](C)[C@H]1C', 'CCCO[C@H]1CC[C@H]1O', 'CCCO[C@H]1C[C@@H](C)C1', 'CCC[C@@H](C)C(C)=NO', 'CCC[C@@H]1C(=O)[C@@H]2N[C@H]12', 'CCC[C@@]1(C)C[C@H]2N[C@H]21', 'CCC[C@@]1(C=O)CO1', 'CCC[C@@]1(O)C[C@H]1C', 'CCC[C@H]1CC[C@H]2O[C@@H]12', 'CCC[C@H]1C[C@H](C#N)C1', 'CCC[C@H]1O[C@H]2CC[C@H]21', 'CCN(C)[C@H]1CNC1=O', 'CCN(CC)C(C)=O', 'CCN(CC=O)CCO', 'CCN1CCCCC1=O', 'CCN1C[C@@]12C[C@H]1O[C@H]12', 'CCN1[C@@H](C)C(=O)[C@H]1C', 'CCN1[C@H]2C[C@@H](O)[C@H]21', 'CCN1[C@H]2[C@@H](O)[C@@H]1[C@H]2O', '[H]/N=C(/NCC)C(=O)NC', 'CCNC(=O)NC=O', 'CCNC1(C(=O)O)CC1', 'CCNc1c[nH]cn1', 'CCNc1nn[nH]n1', 'CCOC(=O)CNC', 'CCOC(=O)[C@@H](N)C#N', 'CCOCCC1(O)CC1', 'CCOCC[C@@H](O)C=O', 'CCOCC[C@H]1C[C@H]1O', 'CCOC[C@H]1C[C@H]1C#N', 'CCO[C@H]1CCOC1', 'CCO[C@H]1CC[C@H]1O', 'CCO[C@H]1C[C@@H]2C[C@H]1O2', 'CCO[C@H]1C[C@H]2C[C@@]12C', 'CCO[C@H]1[C@H]2C[C@H]2[C@H]1O', 'CCOC1=N[C@@H](C)CC1', 'CCOc1n[nH]c(=O)[nH]1', 'CC[C@@H](C#N)C(C)(C)O', 'CC[C@@H](C)C#N', 'CC[C@@H](C)C1CC(=O)C1', 'CC[C@@H](CO)CN1CC1', 'CC[C@@H](NC=O)C(C)=O', 'CC[C@@H](O)C1CC(=O)C1', 'CC[C@@H](O)C[C@@H](C)OC', 'CC[C@@H](O)[C@@H](O)[C@H]1CN1', 'CC[C@@H](O)[C@@]1(C=O)CN1', 'CC[C@@H]1C(=O)O[C@H]1C#N', 'CC[C@@H]1[C@@H]2C[C@@H]3[C@H]1[C@H]23', 'CC[C@@H]1[C@@H]2[C@H](C)C=C[C@@H]21', 'CC[C@@H]1[C@H](O)[C@]2(O)C[C@H]12', '[H]/N=C1\\\\O[C@@H](C#N)[C@@H]1CC', 'CC[C@@](C)(COC)OC', 'CC[C@@]1(C#N)CN1', 'CC[C@@]1(C#N)C[C@H]1OC', 'CC[C@@]1(C#N)N[C@H]1C', 'CC[C@@]1(C)CCNC1=O', 'CC[C@@]1(C)O[C@H]1CO', 'CC[C@@]1(CCOC)CO1', 'CC[C@@]1(O)C=C[C@H]2O[C@H]21', 'CC[C@@]1(O)CC[C@H]1OC', 'CC[C@@]1(O)[C@H]2CCC[C@H]21', 'CC[C@@]12C=C(C)C[C@@H]1C2', 'CC[C@@]12O[C@H]3C[C@]1(O)[C@H]32', 'CC[C@@]12O[C@H]3[C@@H]1C[C@]32O', 'CC[C@@]12O[C@H]3[C@@H]1[C@@H](O)[C@H]32', 'CC[C@@]12[C@H]3C[C@@H]1O[C@@H]2C3', 'CC[C@H](C#N)CCCO', 'CC[C@H]1C=CCC1(C)C', 'CC[C@H]1C=C[C@@]2(C)C[C@@H]12', 'CC[C@H]1CCNCC1=O', 'CC[C@H]1CO[C@@H](C)[C@H]1O', 'CC[C@H]1C[C@@H](C)CCO1', 'CC[C@H]1C[C@@H](C)[C@]1(C)O', 'CC[C@H]1C[C@H]2CC[C@@H]1C2', 'CC[C@H]1C[C@H]2[C@@H](O)[C@@]12O', '[H]/N=C1/C[C@H](CC)C(=O)O1', 'CC[C@H]1N[C@@]12COC2=O', 'CC[C@H]1OC=NC[C@H]1O', 'CC[C@H]1O[C@@H](C)C1=O', 'CC[C@H]1O[C@H]2CN(C)[C@H]21', 'CC[C@H]1[C@@H](O)CC[C@H]1O', 'CC[C@]12CC(C)=C[C@H]1O2', 'CC[C@]12CCOC[C@H]1N2', 'CC[C@]12COC(=O)N1C2', 'CC[C@]12C[C@H]1CN=CO2', 'CCc1cnc(=O)oc1', 'CCc1cnn(C)c1O', 'CCc1nc(N)n(C)n1', 'CCc1nccn1C', 'CCc1ncn[nH]1', 'CCc1ocnc1C=O', 'CCn1cc(O)cn1', 'CN(C)C(=O)N(C)C', 'CN(C)C(=O)[C@@H](O)CO', 'CN(C)C1(C=O)CC1', 'CN(C)C1(CC#N)CC1', 'CN(C)[C@@H]1C(=O)[C@@H]2O[C@H]12', 'CN(C)c1cc[nH]n1', 'CN1C(=O)C[C@H]1C#N', 'CN1C(=O)[C@@]2(O)CC[C@@H]12', '[H]/N=C1\\\\C(=O)CC=CN1C', 'CN1CC(=O)C[C@H](O)C1', 'CN1CC(=O)[C@H]1CO', '[H]/N=c1\\\\ncc(F)cn1C', 'CN1CC(O)C1', 'CN1CC2(CN=CO2)C1', 'CN1CCO[C@@]2(C)C[C@@H]12', 'CN1CCN=C1[C@H]1CO1', 'CN1C[C@@H]2C=C[C@H]1CO2', 'CN1C[C@@]12C[C@H]1N[C@]12C', 'CN1C[C@@]2(O)[C@@H](C=O)[C@@H]12', 'CN1C[C@]12[C@@H]1O[C@H]2[C@@H]1O', 'CN1C[C@]12[C@@H]1[C@H]3C[C@@H]1[C@H]32', '[H]/N=c1\\\\cnc(N)nn1C', 'CN1[C@@H]2[C@H](O)[C@@]3(CO3)[C@@H]21', 'CN1[C@H](C#N)[C@@H]2CC[C@@H]21', 'CN1[C@H]2[C@H]3[C@@H]4[C@H]3[C@H]2[C@@H]41', 'CN1C=N[C@@H](C#N)C1', '[H]/N=C1/[C@H]2C[C@H]2C(=O)N1C', 'CN=C(C#N)NCC=O', 'CN=C(COC)NC=O', 'CN=C1OC[C@H]2O[C@@]12C', 'CN=C1O[C@H]2[C@@H](O)[C@@]12C', 'CN=CNc1ccon1', 'CN=COCC1CCC1', 'CN=CO[C@H]1C[C@@H](O)C1', 'CN=CO[C@H]1C[C@H]1C#N', 'CN=c1ccocc1', 'CN=c1cnc(N)no1', '[H]/N=C(/NC)c1nn[nH]n1', 'CNC(=O)N(C)C(N)=O', 'CNC(=O)[C@H]1C[C@H]1OC', 'CNC(=O)[C@]12C[C@H]1CO2', 'CN[C@@H](C#N)C(C)(C)C', 'CN[C@@H](C=O)[C@@H](C)C#N', 'CN[C@@]12C[C@]1(O)CC2=O', '[H]/N=c1/cc(NC)cn[nH]1', 'CNc1c[nH]nc1CO', 'CNc1cc(CO)c[nH]1', 'CNc1ccc(=O)[nH]n1', 'CNc1cccc(O)n1', 'CNc1cnc(C=O)[nH]1', 'CNc1coc(C)c1C', 'CNc1nc[nH]c1N', 'COC(=O)C(=O)CC=O', 'COC(=O)CCO', '[H]/N=C(\\\\C)NC(=O)OC', 'COC(=O)[C@@H](C)[C@@H](C)O', 'COC(=O)[C@@]1(C)O[C@H]1C', 'COC(C)(C)CCC#N', 'COC(C)(C)[C@@H](O)C#N', 'COC=NC(C)(C)C', 'COCC(CO)CO', 'COCC[C@@H](C)C(N)=O', 'COC[C@@H](C)C(=O)C=O', 'COC[C@@H](C)C(N)=O', 'COC[C@@H](OC)[C@@H](C)O', 'COC[C@@]1(C)CN=CO1', 'COC[C@@]1(C)N[C@H]1C', 'COC[C@@]1(C)[C@H]2CC[C@H]21', 'COC[C@H]1C[C@H]1C=O', 'COC[C@H]1C[C@H]1COC', 'COC[C@H]1N2CC1(O)C2', 'COC[C@H]1OC[C@H]1C#N', 'CO[C@@H](C)C1(C#N)CC1', 'CO[C@@H](C)[C@H]1C[C@H]1OC', 'CO[C@@H]1[C@H](O)[C@@H]2O[C@@H]21', 'CO[C@@]1(C#N)[C@@H](C)[C@H]1C', 'CO[C@@]1(C)COC(=O)C1', 'CO[C@@]1(C)[C@H]2OCO[C@H]21', 'CO[C@H](C#CC#N)C=O', 'CO[C@H](C#N)CN', 'CO[C@H](C(N)=O)C(C)C', 'CO[C@H]1C=CC[C@@]12CO2', 'CO[C@H]1CCC12CCC2', 'CO[C@H]1CN[C@H]1CC#N', 'CO[C@H]1COC12CCC2', 'CO[C@H]1CO[C@H]1C', 'CO[C@H]1C[C@@H](C)O[C@H]1C', 'CO[C@H]1C[C@@H](C)[C@H]1OC', 'CO[C@H]1C[C@H]1C(=O)C#N', 'CO[C@H]1C[C@]1(N)C#N', 'CO[C@H]1OC(=O)O[C@H]1C', 'CO[C@H]1[C@@H](C)[C@]1(N)C#N', 'CO[C@H]1[C@@H](C)[C@]1(O)CO', 'CO[C@H]1[C@H]2C[C@]1(O)[C@H]2C', 'CO[C@]12CCC[C@H]1[C@H]2C', 'CO[C@]12CC[C@H]1[C@H]2C', 'CO[C@]12C[C@H](CC1=O)C2', 'CO[C@]12[C@@H](C)[C@H]1[C@H]1O[C@H]12', 'COc1n[nH]nc1N', 'COc1nc[nH]c1C', 'C[C@@H](C#N)[C@@H](C)NC=O', 'C[C@@H](C#N)c1cnco1', 'C[C@@H](C=O)N1[C@H]2C[C@@H]1C2', 'C[C@@H](C=O)[C@@H]1C=CCC1', '[H]/N=C(\\\\C=O)N[C@@H](C)CO', 'C[C@@H](COC=O)[C@H]1CO1', '[H]/N=C(\\\\N)NC(=O)[C@@H](C)O', 'C[C@@H](O)C1=N[C@H]2C[C@H]2N1', 'C[C@@H](O)C1CCC1', '[H]/N=C/OCC[C@@H](C)O', 'C[C@@H](O)CC[C@@H](C)O', 'C[C@@H](O)[C@@](C)(O)C=O', 'C[C@@H](O)[C@@]1(C)CO1', 'C[C@@H](O)[C@H]1C[C@H]1OC=O', '[H]/N=C1/CO[C@H]([C@@H](C)O)O1', 'C[C@@H](O)[C@]12O[C@H]1C[C@H]2C', 'C[C@@H]1C(=NO)C=CN1C', 'C[C@@H]1C(=O)C2(C)CN1C2', 'C[C@@H]1C(=O)CN1C', 'C[C@@H]1C(=O)C[C@@H]1CCO', '[H]/N=C1\\\\NC(=O)[C@@H](C)N1C', 'C[C@@H]1C(=O)OC[C@@H]2CN21', 'C[C@@H]1C(=O)O[C@H]2[C@@H]1[C@H]2O', 'C[C@@H]1C=CCO[C@@H]1C', 'C[C@@H]1C=C[C@@H]2C[C@]2(C)O1', 'C[C@@H]1OC[C@H](C)CC1=O', 'C[C@@H]1O[C@@H]1[C@@H](C)NC=O', 'C[C@@H]1O[C@@H]2[C@@H]3[C@H]1[C@H]2[C@@H]3C', 'C[C@@H]1Oc2ncoc2O1', 'C[C@@H]1[C@@H]2C(=O)[C@@H]3C[C@@H]3[C@H]12', 'C[C@@H]1[C@@H]2O[C@@H]3C[C@H]1[C@]23C', 'C[C@@H]1[C@@H]2O[C@H]3[C@@H]2[C@H]2[C@@H]1[C@H]23', 'C[C@@H]1[C@@H]2[C@@H](C#N)[C@@H]3[C@H]1[C@H]23', 'C[C@@H]1[C@H](CCCO)[C@@H]1C', 'C[C@@H]1[C@H](CO)[C@@H]2[C@H]1N2C', 'C[C@@H]1[C@H](CO)[C@]2(C)C[C@H]12', 'C[C@@H]1[C@H](N2CC2)[C@@H]1CO', 'C[C@@H]1[C@H](O)C(=NO)[C@@H]1C', 'C[C@@H]1[C@H](O)[C@@H]2O[C@H](C)[C@H]12', 'C[C@@H]1[C@H]([C@@H](O)C#N)[C@@H]1C', 'C[C@@H]1[C@H]2[C@@H](C)[C@@]3(C)[C@@H]1[C@@H]23', 'C[C@@H]1[C@H]2[C@H]3[C@@H]1[C@H]3C2(C)C', 'C[C@@H]1[C@]2(C)N3C[C@@H]3[C@]12O', 'C[C@@](N)(CC#N)C(=O)O', 'C[C@@](O)(C#N)C1(O)CC1', 'C[C@@](O)(C=O)C(N)=O', 'C[C@@](O)(C=O)C1CC1', 'C[C@@](O)(C=O)C1CCC1', 'C[C@@](O)(CCO)[C@H]1CO1', 'C[C@@]1(C#C[C@H]2CN2)CO1', 'C[C@@]1(C#N)COC12CC2', 'C[C@@]1(C#N)O[C@H]2CC[C@H]21', 'C[C@@]1(C#N)[C@H]2CCN21', 'C[C@@]1(C(N)=O)CNC1=O', 'C[C@@]1(CC#N)CN1C=O', 'C[C@@]1(CC#N)O[C@H]1CO', 'C[C@@]1(CC=O)CN2C[C@H]21', 'C[C@@]1(CC=O)[C@H]2CO[C@H]21', 'C[C@@]1(CO)C[C@H]2C[C@@H]1C2', 'C[C@@]1(CO)O[C@H]2C[C@]21O', 'C[C@@]1(N)CO[C@H]1C(=O)O', 'C[C@@]1(N2CC2)CC[C@H]1O', 'C[C@@]1(O)C[C@H]2CC(=O)[C@H]21', 'C[C@@]1([C@H]2N[C@H]2C#N)CO1', 'C[C@@]1([C@H]2O[C@H]3C[C@H]32)CO1', 'C[C@@]12C(=O)N[C@@H]1C[C@@H]2O', 'C[C@@]12CC=CC[C@@H]1CC2', 'C[C@@]12CCOCO[C@@H]1C2', 'C[C@@]12CC[C@@H](N1)C2=NO', 'C[C@@]12CN3C[C@@H](O1)[C@H]32', 'C[C@@]12C[C@@H](CNC1=O)O2', 'C[C@@]12C[C@@H](NC=O)[C@@H]1C2', 'C[C@@]12C[C@@H]3O[C@@H]3[C@@H]1C2', 'C[C@@]12C[C@@]3(C=O)C[C@@H]1[C@H]32', '[H]/N=C1\\\\O[C@@H]2C[C@@]3(C)[C@@H]2N13', 'C[C@@]12C[C@H]3[C@@H]1OC(=O)[C@H]32', 'C[C@@]12C[C@]1(O)[C@@H](O)C2=O', 'C[C@@]12OC[C@H]3C[C@@H]1O[C@H]32', 'C[C@@]12O[C@H]3C[C@@H]1O[C@H]32', 'C[C@@]12[C@H](O)CO[C@@H]1[C@@H]2O', 'C[C@@]12[C@H](O)[C@H]3C[C@]1(O)[C@H]32', 'C[C@@]12[C@H]3O[C@@H](C[C@H]1O)[C@H]32', 'C[C@@]12[C@H]3[C@H]4O[C@@H]1C[C@@H]2[C@H]43', 'C[C@]12C3=CCN4[C@H]1[C@H]2[C@H]34', 'C[C@H](C=O)CN1CC1', 'C[C@H](CC=O)CNC=O', 'C[C@H]1C=CCC(=O)C1=O', 'C[C@H]1C=C[C@@H](C=O)[C@H]1O', 'C[C@H]1C=C[C@@H]2CO[C@H]1C2', 'C[C@H]1C=C[C@@]2(C)[C@@H](O)[C@@H]12', '[H]/N=C1\\\\OCC(=O)C[C@@H]1C', 'C[C@H]1CC(=O)[C@@]12CCO2', 'C[C@H]1CC1(C)C', 'C[C@H]1CCCCC1=O', 'C[C@H]1CCC[C@H]2C[C@@]12O', 'C[C@H]1CCN2[C@@H](CO)[C@@H]12', 'C[C@H]1CCOC12CCC2', 'C[C@H]1CC[C@@H](C)OCO1', 'C[C@H]1CC[C@@H](CCO)O1', 'C[C@H]1CC[C@@H]2[C@H]1[C@@H]1C[C@H]21', 'C[C@H]1CC[C@H]1CCO', 'C[C@H]1CN1CC(N)=O', 'C[C@H]1CN1[C@@H]1[C@H](O)[C@@H]1O', 'C[C@H]1CN2C[C@H]2CC1=O', 'C[C@H]1COC(=O)C=CN1', 'C[C@H]1COCC1=NO', 'C[C@H]1COC[C@H]2O[C@H]2C1', 'C[C@H]1CO[C@@H]2C[C@H]1[C@H]2C', 'C[C@H]1CO[C@@H]2C[C@H]1[C@H]2O', 'C[C@H]1CO[C@@]12CNC2=O', 'C[C@H]1COc2ncoc21', 'C[C@H]1C[C@@H](CCO)C1=O', 'C[C@H]1C[C@@H](CCO)CO1', 'C[C@H]1C[C@@H]([C@H]2CN2)C1=O', 'C[C@H]1C[C@@](C)(O)CC1=O', 'C[C@H]1C[C@@]12OCC2=O', 'C[C@H]1C[C@@]12[C@@H]1C=C[C@H]2C1', 'C[C@H]1C[C@@]2(C)[C@@H](C#N)N12', 'C[C@H]1C[C@H]1C(=O)N1CC1', 'C[C@H]1C[C@H]1C1=CCOC1', 'C[C@H]1C[C@H]1OC(N)=O', 'C[C@H]1C[C@H]1[C@@H](O)C(N)=O', 'C[C@H]1C[C@H]2C(=NO)C[C@@H]12', 'C[C@H]1C[C@H]2C=C[C@H]3[C@@H]1[C@H]32', 'C[C@H]1C[C@H]2C[C@@H]3CC[C@@]132', 'C[C@H]1C[C@H]2O[C@@]2(C=O)C1', 'C[C@H]1C[C@H]2[C@H](C(N)=O)N12', 'C[C@H]1C[C@](C#N)(C=O)O1', 'C[C@H]1C[C@]1(C)C#CC#N', 'C[C@H]1C[C@]23CO[C@@]2(C1)C3', 'C[C@H]1C[C@]23C[C@H](C2)[C@H]3O1', 'C[C@H]1C[C@]23C[C@](O)(C2)[C@@H]13', 'C[C@H]1CC2=CNC(=O)[C@H]21', 'C[C@H]1N2C(=O)OC[C@@]12C', 'C[C@H]1N2CC1(N1CC1)C2', 'C[C@H]1N2C[C@@H](CO)[C@@]12C', 'C[C@H]1N2C[C@H]3O[C@]1(C)[C@H]32', 'C[C@H]1N2[C@@H]3[C@@H]4[C@H]2[C@@]1(C)[C@H]34', 'C[C@H]1N[C@@]12CCCC2=O', 'C[C@H]1N[C@@]12C[C@H]1[C@@H](O)[C@H]12', 'C[C@H]1N[C@H]1[C@H]1CO1', 'C[C@H]1N[C@]1(C)C(F)(F)F', 'C[C@H]1N[C@]2(C#N)C[C@H]1C2', 'C[C@H]1OC(=O)[C@H]2[C@@H]1N2C', 'C[C@H]1OCCOC1(C)C', 'C[C@H]1OCC[C@@]12CO2', 'C[C@H]1OCC[C@H]1N1CC1', 'C[C@H]1OCO[C@H]2CO[C@H]21', 'C[C@H]1OC[C@@H](C#N)[C@H]1C', '[H]/N=C1\\\\OC[C@@]12CO[C@@H]2C', 'C[C@H]1OC[C@@]12C[C@H]1C[C@H]12', 'C[C@H]1OC[C@H]2CO[C@]21C', 'C[C@H]1O[C@@H](CO)[C@H]1O', 'C[C@H]1O[C@@]2(C)C[C@@]2(C)O1', 'C[C@H]1O[C@H]1[C@H]1C[C@H]1C=O', 'C[C@H]1O[C@H]2C(=O)CN[C@@H]12', 'C[C@H]1O[C@H]2CO[C@@H]1CO2', 'C[C@H]1O[C@]1(C)C#CC=O', 'C[C@H]1O[C@]1(C)C(N)=O', 'C[C@H]1OC2=C([O-])[C@H]1[CH-]C2', '[H]/N=C1\\\\O[C@H](C)[C@@H]1NC=O', 'C[C@H]1[C@@H](C#N)[C@]1(C)CO', 'C[C@H]1[C@@H](C)[C@@H](O)[C@H]2CN12', 'C[C@H]1[C@@H](O)[C@@]12COCO2', 'C[C@H]1[C@@H](O)[C@@]12C[C@H]1CN12', 'C[C@H]1[C@@H](O)[C@H]1[C@@H](N)C#N', 'C[C@H]1[C@@H](O)[C@]1(C)C#N', 'C[C@H]1[C@@H](O)c2ncnn21', 'C[C@H]1[C@@H]([C@H]2CO2)C1(C)C', 'C[C@H]1[C@@H]2CN[C@@]1(C#N)C2', 'C[C@H]1[C@@H]2[C@@H]3[C@H](O)[C@]3(C)[C@H]12', 'C[C@H]1[C@@H]2[C@H]3C[C@](C)(C3)[C@H]12', 'C[C@H]1[C@H]2C(=O)N3[C@H]2[C@]13C', 'C[C@H]1[C@H]2C=CCC[C@@]12O', 'C[C@H]1[C@H]2CN1[C@H]2CC=O', 'C[C@H]1[C@H]2C[C@@H]1[C@H](C=O)C2', 'C[C@H]1[C@H]2C[C@@H]3N2[C@]13C', 'C[C@H]1[C@H]2C[C@]1(C)[C@H]2O', 'C[C@H]1[C@H]2C[C@]1(C=O)O2', '[H]/N=C1\\\\N2[C@@H](C)[C@@H]2[C@]12CO2', 'C[C@H]1[C@H]2OC[C@@H]3C[C@H]2N31', 'C[C@H]1[C@H]2[C@@H](C#N)[C@@H](C)N12', 'C[C@H]1[C@H]2[C@@H](O)CO[C@@]12C', 'C[C@]12C(=O)[C@@H]3C=C[C@H]1[C@@H]32', 'C[C@]12C=CC[C@H](C1)C2=O', 'C[C@]12C=C[C@@H]3[C@H]1[C@H]1[C@@H]3N12', 'C[C@]12C=C[C@H](O1)[C@H]2CO', 'C[C@]12CC3(CCC3)[C@H]1O2', 'C[C@]12CCCN1CC2=O', 'C[C@]12CCC[C@](C)(C1)O2', 'C[C@]12CN3[C@H]1[C@]3(CO)C2', 'C[C@]12COCC=C[C@H]1O2', 'C[C@]12COC[C@H]1N2C=O', 'C[C@]12CO[C@@]1(C=O)CO2', 'C[C@]12COC1=N[C@H]1C[C@H]12', 'C[C@]12C[C@@H](CO)[C@H]1N2', 'C[C@]12C[C@@]1(C=O)OC=N2', 'C[C@]12C[C@H](C1)O[C@H]1C[C@H]12', 'C[C@]12C[C@H]1C[C@H]1OC[C@H]12', 'C[C@]12C[C@H]1O[C@H]1C[C@@H]2C1', 'C[C@]12C[C@H]1[C@@]1(C=O)CN21', 'C[C@]12C[C@H]1[C@H](C=O)CO2', 'C[C@]12C[C@H]1[C@H]1N[C@H]12', 'C[C@]12C[C@H]1[C@H]1O[C@]12C=O', 'C[C@]12C[C@](C#N)(C1)C2=O', 'C[C@]12C[C@](CCO)(C1)C2', 'C[C@]12N=CO[C@H]1[C@H]2CO', 'C[C@]12N[C@H]1C(=O)[C@H]2C#N', 'C[C@]12N[C@H]1COC[C@H]2O', 'C[C@]12N[C@H]1[C@H]1C[C@@H]2[C@H]1O', 'C[C@]12N[C@H]1[C@H]1C[C@]12C=O', 'C[C@]12OC[C@H]3[C@@H]4[C@H]3[C@H]1[C@@H]42', 'C[C@]12[C@H](O)[C@@H]3O[C@H]1[C@@]32C', '[H]/N=C1\\\\O[C@@H]2[C@H]3C[C@@H]2[C@@]13C', '[H]/N=C(\\\\C)N1C[C@H](C)C1=O', '[H]/N=C(/C)Oc1cn[nH]n1', 'CC1=C2C[C@@H]3[C@H]2[C@]3(O)C1', '[H]/N=c1/nc(C)onc1F', 'C/N=C1/C=CC(=O)N1', 'C/N=c1\\\\cn[nH]c(C)n1', 'C/N=c1/nc(C)nco1', 'Cc1[nH]ccc(=O)c1N', 'Cc1c(O)ccnc1F', 'Cc1cc(C=O)c[nH]1', 'Cc1cc(CCO)c[nH]1', 'Cc1cc(F)[nH]c(=O)c1', 'Cc1ccc(C=O)nc1', 'Cc1ccc(CO)cn1', 'Cc1ccc([C@H]2CO2)[nH]1', 'Cc1ccn(C=O)c1', 'Cc1ccn(CCO)n1', 'Cc1ccnc(CO)n1', 'Cc1cn(CC=O)nn1', 'Cc1cncc(=O)o1', 'Cc1nc(=O)c(C)no1', 'Cc1nc(CCO)n[nH]1', 'Cc1nc(O)n(C)n1', 'Cc1nc2c([nH]1)C=CC2', 'Cc1ncc(=O)on1', 'Cc1ncoc1[N+](=O)[O-]', 'Cc1nn2ccnc2o1', 'Cc1nnoc(=O)c1F', 'Cc1noc2c1C=CC2', 'Cc1oc(C)c(N)c1N', 'Cc1occ2nc[nH]c12', 'Cn1cc(C#N)c(N)n1', 'Cn1cc(CC#N)cn1', 'Cn1cc(N=CN)nn1', 'Cn1cc2nn[nH]c2c1', '[H]/N=C/Oc1cncn1C', '[H]/N=C/Nc1cnn(C)n1', 'Cn1ncc(OC=O)n1', 'N#CC(=O)N(C=O)C=O', 'N#CC1(C#N)COC1=O', 'N#CC1=CCOCC1', 'N#CC1=CC[C@H](O)C1', 'N#CCC#CCC=O', 'N#CCCN=COC=O', 'N#CCC[C@H](O)C1CC1', 'N#CCNCC(N)=O', 'N#CCNc1cocn1', 'N#CCO[C@@H]1C[C@@H]1O', 'N#CCO[C@H]1CN2C[C@@H]12', 'N#CC[C@@H]1[C@@H]2C[C@@H]3[C@H]1N23', 'N#CC[C@@]12C[C@H]3[C@@H](C1)N32', 'N#CC[C@@]12O[C@@H]1C[C@@H]2O', 'N#CC[C@H]1[C@@H]2CCN1C2', 'N#CC[C@]1(N)CNC1=O', 'N#CCc1cc(O)n[nH]1', 'N#C[C@@H]1CC(=O)C12CC2', 'N#C[C@@H]1CC=CC1=NO', '[H]/N=C/O[C@H]1CC[C@H]1C#N', 'N#C[C@@H]1CC[C@@]12C[C@@H]2O', 'N#C[C@@H]1N2[C@@H]3C[C@@]1(O)[C@@H]32', 'N#C[C@@H]1N[C@@H]1CCO', 'N#C[C@@H]1OC2(CC2)[C@H]1O', 'N#C[C@@H]1OC[C@@]1(O)C#N', 'N#C[C@@H]1[C@@H]2OCC[C@@]21N', 'N#C[C@@H]1[C@H](CO)[C@@H]1N', 'N#C[C@@]1(N)C=CCCC1', 'N#C[C@@]1(O)COC[C@@H]1O', 'N#C[C@@]1([C@H]2CO2)CCO1', 'N#C[C@@]12C=C[C@@H](CC1)O2', 'N#C[C@@]12C=C[C@H]3[C@@H]1N3C2', 'N#C[C@@]12C=C[C@H]3[C@@H]1N[C@H]32', 'N#C[C@@]12CN1C[C@@H]2C=O', 'N#C[C@@]12[C@H]3[C@H]4CN1[C@@H]2[C@H]43', 'N#C[C@@]12N[C@@H]1CC[C@@H]2O', 'N#C[C@H](O)CC(N)=O', 'N#C[C@H]1CC[C@H](C#N)N1', 'N#C[C@H]1CO[C@H]2CN[C@@H]12', 'N#C[C@H]1Cc2ncnn21', 'N#C[C@H]1NC[C@@]12CCN2', 'N#C[C@H]1N[C@H]1[C@H]1CO1', 'N#C[C@H]1[C@H]2CNC[C@@H]1O2', 'N#C[C@H]1[C@H]2C[C@@H]1C2', 'N#C[C@]1(CCO)C[C@H]1O', 'N#C[C@]1(O)CNC12CC2', 'N#C[C@]12CN3[C@H]1C=C[C@@H]32', 'N#C[C@]12COC[C@H](C1)C2', 'N#C[C@]12C[C@H]1COC=N2', 'N#C[C@]12C[C@H]1OC=N2', 'N#C[C@]12[C@@H]3[C@H]4[C@H](O[C@H]41)[C@@H]32', 'N#Cc1ccc(=O)oc1', 'N#Cc1ccncn1', '[H]/N=C(/CC1CC1)NC=O', 'N[C@@]12N[C@@H](OC1=O)C2=O', '[H]/N=C/N(C=O)/C(C=O)=N/[H]', '[H]/N=C1/[NH+]=C[NH+]=C1OC=O', 'NC(=O)C#CCN1CC1', 'NC(=O)C1([C@H]2CN2)CC1', 'NC(=O)N1CC(CO)C1', 'NC(=O)N[C@H]1[C@H]2CO[C@H]21', 'NC(=O)[C@@H](O)CC=O', 'NC(=O)[C@@]1(O)C[C@H]1C=O', 'NC(=O)[C@@]1(O)C[C@H]2O[C@H]21', 'NC(=O)[C@H]1CN1', 'NC(=O)[C@H]1N2CC1(O)C2', 'NC(=O)[C@H]1N=CN2C[C@@H]12', 'NC(=O)[C@]12C[C@@H]3[C@H]1[C@@H]3O2', 'NC(=O)c1ocnc1N', 'NC1=NC2(CC2)CO1', 'N[C@H]1CCN(C=O)C1=O', 'N[C@]12C[C@H]1O[C@H]2C(=O)O', 'Nc1c(F)nnoc1=O', 'Nc1ncncc(=O)n1', 'NC1=N[C@H]2[C@H]3O[C@@H]1[C@@]23N', 'Nc1[nH]c(=O)ccc1O', 'Nc1[nH]nc2c1NCC2', 'Nc1ccc(F)cc1N', 'Nc1ccc(N2CC2)o1', 'Nc1cn[nH]c1', 'Nc1cnn(C=O)c1', 'Nc1cnnc(O)c1', 'Nc1conc1[N+](=O)[O-]', 'Nc1n[nH]cc1CC=O', 'Nc1nn[nH]c1C=O', 'Nc1noccc1=O', 'Nc1onc(C=O)c1N', 'Nc1onc2c1NCC2', 'O=C(C#C[C@H]1CO1)CO', 'O=C(CO)[C@H]1CO1', 'O=C(NCCO)C1CC1', 'O=C(O)[C@]12C[C@H]1CCN2', 'O=C1C=CCCC1=NO', 'O=C1C=C[C@@H]2C[C@]2(O)C1', 'O=C1C=C[C@@H]2OC(=O)[C@H]12', 'O=C1C=C[C@@]2(O)C[C@H]2C1', 'O=C1CCC2=CCCN12', 'O=C1CCNC(=O)[C@H]1O', 'O=C1CCOC(=O)CC1', 'O=C1CCOCC[C@@H]1O', 'O=C1CC[C@@H]2C[C@H]1O2', 'O=C1CC[C@@]1(O)[C@H]1CO1', 'O=C1CC[C@@]12OC[C@@H]2O', 'O=C1CN(CC2CC2)C1', 'O=C1CN2[C@H]3C=C[C@@H]1[C@H]32', 'O=C1CNCC(=O)OC1', 'O=C1CNC[C@]2(CO2)C1', 'O=C1CN[C@H]2C=C[C@@H]1C2', 'O=C1COC(=O)[C@H]1O', 'O=C1CO[C@@H]2C[C@]12O', 'O=C1CO[C@@H]2C[C@]2(O)C1', 'O=C1C[C@@H](O)C[C@H]2CN12', 'O=C1C[C@@H]2C[C@@H]2C1=NO', 'O=C1C[C@@H]2C[C@H]1CC2=O', 'O=C1C[C@@H]2C[C@]12CCO', 'O=C1C[C@@H]2[C@@H]3[C@@H]4[C@H]1[C@@H]4[C@@H]32', 'O=C1C[C@H](C2(O)CC2)O1', 'O=C1C[C@H]2CC=C[C@@H]1C2', 'O=C1C[C@H]2OC[C@@H]1O2', 'O=C1C[C@]2(O)[C@@H]3O[C@H]1[C@@H]32', 'O=C1CC2=CCC[C@H]2O1', 'O=C1Cc2ccoc2C1', 'O=C1Cn2cncc2O1', 'O=C1NC=N[C@H]2C[C@H]2N1', 'O=C1NC[C@@]23CC[C@@]12O3', 'O=C1N[C@@H]2[C@H]3CC[C@@H]2[C@@H]13', 'O=C1N[C@H]2C[C@H]2O1', 'O=c1[nH]c2c(o1)OCO2', 'O=C1OC[C@@]12[C@H](O)[C@@H]2O', 'O=C1O[C@H]2CC[C@@H]1OC2', 'O=C1O[C@H]2[C@@H]3O[C@H]2[C@]13O', 'O=C1O[C@H]2[C@@H]3[C@H]4[C@@H]3N1[C@@H]24', 'O=C1[C@H]([C@H]2CO2)N2C[C@H]12', 'O=C1[C@H]2CN3C[C@@]2(O)[C@H]13', 'O=C1[C@H]2C[C@H]3O[C@@H]1C[C@@H]23', 'O=C1[C@H]2O[C@H]2[C@@]2(O)C[C@@H]12', 'O=C1[C@H]2[C@H]3[C@@H]1N3[C@H]2CO', 'O=CC#Cc1cnco1', 'O=CC(=O)N1CC(=O)C1', 'O=CC(=O)[C@@H]1C=CCO1', 'O=CC1(C2CC2)CCC1', 'O=CCN1CC(=NO)C1', 'O=CCOc1cc[nH]n1', 'O=CC[C@@]12CC=C[C@@H]1C2', 'O=CC[C@@]12C[C@@H](O1)C2=O', 'O=CC[C@H]1CNC(=O)N1', 'O=CC[C@]1(O)[C@H]2CO[C@H]21', 'O=CN1CCC12CC2', 'O=CN1CCC[C@H](O)C1', 'O=CN1[C@@H]2[C@@H]3O[C@@H]3[C@@H]21', 'O=CN1[C@H]2C[C@H]3O[C@H]3[C@H]21', 'O=CNCCC1(O)CC1', 'O=CN[C@@H]1C=CC[C@@H]1O', 'O=CNc1c[nH]c(O)c1', 'O=CO[C@H](CO)C1CC1', 'O=COc1cnnnn1', 'O=C[C@@H]1C=CC2(CC2)O1', 'O=C[C@@H]1CN[C@@H]1C(=O)O', 'O=C[C@@H]1C[C@@]1(O)[C@H]1CN1', 'O=C[C@@H]1C[C@@]12OC[C@@H]2O', 'O=C[C@@H]1OC[C@H](O)[C@@H]1O', 'O=C[C@@H]1[C@@H]2C[C@@]1(O)C2=O', 'O=C[C@@]1(O)[C@@H]2[C@@H]3N[C@@H]3[C@@H]21', 'O=C[C@@]12CC(=O)[C@@H]1[C@@H]2O', 'O=C[C@@]12CCCC[C@@H]1C2', 'O=C[C@@]12CCC=C1CN2', 'O=C[C@@]12CN3[C@@H]([C@@H]31)[C@@H]2O', 'O=C[C@@]12C[C@@H](CC1=O)N2', 'O=C[C@@]12C[C@H]3N=CN1[C@H]32', 'O=C[C@@]12N[C@H]3CO[C@@H]1[C@H]32', 'O=C[C@H](O)[C@@H](O)[C@H]1CN1', 'O=C[C@H](O)c1cocn1', 'O=C[C@H]1CC(=O)C(=O)N1', 'O=C[C@H]1CCCC(=O)O1', 'O=C[C@H]1CCOCCO1', 'O=C[C@H]1CC[C@H]1C=O', 'O=C[C@H]1C[C@H]1CC1CC1', 'O=C[C@H]1C[C@H]2CN3[C@@H]1[C@@H]23', 'O=C[C@H]1C[C@H]2[C@H]3C[C@@H]1N23', 'O=C[C@H]1N=CO[C@H]2C[C@@H]12', 'O=C[C@H]1N[C@H]1[C@H]1CCO1', 'O=C[C@H]1OC=N[C@H]1C=O', 'O=C[C@H]1[C@@H]2C[C@H](O)[C@H]1O2', 'O=C[C@H]1[C@H]2CCC[C@@H]12', 'O=C[C@H]1[C@H]2C[C@@H]3[C@H]2N13', 'O=C[C@]1(O)C[C@H]2C[C@H]21', 'O=C[C@]1(O)[C@@H](O)[C@H]1O', 'O=C[C@]12CC=C[C@H]1N2', 'O=C[C@]12C[C@H]1N=CO2', 'O=C[C@]12O[C@H]1[C@H]1C[C@H]12', 'N=C=NC[C@H]1C=C1C=O', 'O=Cc1cc(=O)cno1', 'O=Cc1ccc(=O)[nH]c1', 'O=Cn1cccc1', 'O=Cn1nccc1CO', 'O=c1c(F)conc1F', 'O=c1cc(F)oc(F)c1', 'O=c1cc(O)cccn1', 'O=c1nc(CO)nno1', 'O=c1ncncoc1=O', 'O=c1oncn1CCO', 'OC12CN(C1)C21COC1', 'OC1CC2(CCCC2)C1', 'OCCC#CCCCO', 'OCCCc1ccno1', 'OCC[C@@]12[C@H]3[C@H]4[C@@H]1N4[C@H]32', 'OCC[C@]1(O)C=CCC1', 'OCCc1cc(O)c[nH]1', 'OC[C@@H]1C=CCCOC1', 'OC[C@@H]1[C@@H]2C=CCO[C@@H]21', 'OC[C@@]12C=C[C@H]3[C@@H]1CN32', 'OC[C@@]12CCOC[C@@H]1C2', 'OC[C@@]12CO[C@@H](CO1)C2', 'OC[C@@]12C[C@H]3O[C@@H]1[C@]32O', 'OC[C@@]12OC[C@H]3C[C@@H]1[C@H]32', 'OC[C@H]1CC[C@@H](O)[C@H]1O', 'OC[C@H]1CO1', 'OC[C@H]1COCCO1', 'OC[C@H]1C[C@H]2OC[C@@H]1O2', 'OC[C@H]1C[C@H]2[C@H]3[C@@H]1CN23', 'OC[C@H]1O[C@H]2C=C[C@@H]1O2', 'OC[C@H]1O[C@H]2COC[C@@H]12', 'OC[C@H]1O[C@H]2C[C@@H]3[C@H]2[C@H]13', 'OC[C@H]1[C@H]2C=C[C@@H]3[C@H]2N31', 'OC[C@H]1[C@H]2CO[C@@H]1[C@H]2O', 'OC[C@H]1[C@H]2[C@@H](O)CN21', 'OC[C@]12C[C@H]1[C@H]1C[C@@H]2O1', 'OCc1ccc(CO)o1', 'ON=C1COC[C@H]2C[C@@H]12', 'ON=C1C[C@H]2N[C@H]2[C@H]1O', 'ON=C1[C@H](O)CN2C[C@H]12', 'O[C@@H](CN1CC1)[C@H]1CO1', 'O[C@@H]1C=CCC1', 'O[C@@H]1[C@H]2O[C@@H]3[C@@H]4[C@H]2[C@@H]4[C@H]13', 'O[C@@]1([C@H]2CO2)[C@H]2CC[C@H]21', 'O[C@@]12CN3[C@H]4[C@@H]1N[C@@H]2[C@H]43', 'O[C@@]12COC[C@H]3[C@@H]1O[C@H]32', 'O[C@@]12[C@H]3C[C@@H]1[C@H]1[C@@H]2C[C@@H]31', 'O[C@@]12[C@H]3C[C@H]3[C@H]3[C@@H]1O[C@H]32', 'O[C@H]1C=CCC12COC2', 'O[C@H]1C=C[C@H]2CCO[C@@H]12', 'O[C@H]1CCCO[C@H]2C[C@@H]12', 'O[C@H]1CC[C@]12C=CCC2', 'O[C@H]1COCC[C@@]12CN2', 'O[C@H]1CO[C@H]2CC[C@H]2C1', 'O[C@H]1C[C@@H]2C1=C[C@@H]1O[C@@H]12', 'O[C@H]1C[C@@]2(N3CC3)C[C@@H]12', 'O[C@H]1C[C@]2(CO2)[C@H]2C[C@@H]12', 'O[C@H]1C[C@]2(CO2)[C@H]2N[C@@H]12', 'O[C@H]1C[C@]2(C[C@H]3N[C@H]32)C1', 'O[C@H]1C[C@]23O[C@@H]4[C@H]2O[C@@]143', 'O[C@H]1CC2=CCOC[C@H]21', 'O[C@@H]1C=C2C[C@H](O)[C@@H]2C1', 'O[C@H]1[C@H]2CN2C12COC2', 'O[C@H]1[C@H]2C[C@@H]3C[C@H]2[C@]13O', 'O[C@H]1[C@H]2C[C@H]3CO[C@@H]1[C@@H]23', 'O[C@H]1[C@H]2C[C@]1(O)C[C@H]2O', 'O[C@H]1[C@H]2CN=C3O[C@@H]1[C@H]32', 'O[C@H]1[C@H]2O[C@@H]3C[C@]3(O)[C@H]21', 'O[C@H]1[C@H]2C[C@H]3[C@@H]1N1[C@@H]2[C@@H]31', 'O[C@]12CN3[C@H]1[C@H]2C31CC1', 'Oc1n[nH]nc1C1CC1', 'Oc1ncncc1F', 'Oc1noc([C@H]2CN2)n1', 'C1=C[C@@H]2[C@@H]3OCC=C1[C@H]23', 'C1=C2C[C@H]3CO[C@@H](C1)[C@@H]23', 'c1nc2n3c1CC[C@@H]3C2', '[H]/N=c1\\\\onccc1N', '[H]/N=c1\\\\[nH]cc(F)[nH]\\\\c1=N/[H]', '[H]/N=c1/cc(N)nc(O)o1', '[H]/N=c1/cc(O)nco1', '[H]/N=c1/nc(N)cc(F)o1', '[H]N=c1nc[nH]cn1', '[H]/N=C/OC(=O)CC=O', '[H]/N=C/O[C@@H]1C[C@@H]1O', '[H]/N=C/O[C@@]12CCO[C@@H]1C2', '[H]/N=C/O[C@@]12C[C@H]3O[C@@H]1[C@H]32', '[H]/N=C/O[C@H]1CCC12CC2', '[H]/N=C/O[C@H]1CC[C@H](O)C1', '[H]/N=C1/CC/C(=N/[H])OCO1', '[H]/N=C1/C[C@@H]2[C@H](O)[C@@H]2O1', '[H]/N=C1/C[C@H](O)CC(=O)N1', 'N=C=N[C@@H]1O[C@@H]1N=C=O', '[H]/N=C1\\\\NC(=O)C[C@@H]1O', '[H]/N=C1/NC[C@H](O)CC1=O', '[H]/N=C1\\\\OCC[C@H]2N[C@@H]12', '[H]/N=C1\\\\OC[C@@H]2O[C@H]1C2=O', '[H]/N=C1\\\\O[C@@H]2[C@H]3C[C@@H]2[C@@H]13', '[H]/N=C1\\\\O[C@@H]2[C@H]3C[C@@H]2[C@@H]1N3', '[H]/N=C1\\\\O[C@H]2C[C@@H]3CN[C@]123', '[H]/N=C1\\\\O[C@H]2C[C@H]2CC1=O', '[H]/N=C1\\\\O[C@H]2C[C@]1(CO)C2', '[H]/N=C1\\\\O[C@H]2[C@@H](CO)C[C@@H]12', 'c1[nH]cc2c1NCCN2', 'c1[nH]nc2c1COCO2', 'c1cc2ncoc2o1', 'c1cc2onnc2cn1', 'c1cnc2[nH]ncc2c1', 'c1cnc2c(n1)CCC2', 'c1nc2c(o1)OCO2', 'c1nc2ccoc2[nH]1', 'c1ncn2c1COCC2', 'c1noc([C@H]2CCO2)n1', 'c1nocc1C1CC1']\n"
     ]
    }
   ],
   "source": [
    "print(smiles)"
   ]
  },
  {
   "cell_type": "code",
   "execution_count": 110,
   "metadata": {},
   "outputs": [
    {
     "name": "stdout",
     "output_type": "stream",
     "text": [
      "O=C[C@]12O[C@H]1[C@H]1C[C@H]12\n"
     ]
    }
   ],
   "source": [
    "#smi = smiles[0]\n",
    "#smi = 'O=C[C@]12O[C@H]1[C@H]1C[C@H]12'\n",
    "\n",
    "for idx, mol in enumerate(conformations_dict[smi], start=1):\n",
    "    cmd.read_molstr(Chem.MolToMolBlock(mol), f'{smi}_conf{idx}')\n",
    "    #if idx > 1:\n",
    "    #    cmd.align(f'{smi}_conf{idx}', f'{smi}_conf1')\n",
    "    cmd.show('sticks')\n",
    "    \n",
    "\n",
    "# Call the visualization function\n",
    "#visualize_molecules(conformations_dict[smi])"
   ]
  },
  {
   "cell_type": "code",
   "execution_count": 104,
   "metadata": {},
   "outputs": [],
   "source": [
    "import xmlrpc.client as xmlrpclib\n",
    "cmd = xmlrpclib.ServerProxy('http://localhost:9123')\n"
   ]
  },
  {
   "cell_type": "code",
   "execution_count": 111,
   "metadata": {},
   "outputs": [],
   "source": [
    "\n",
    "with open('data/QM9/qm9/'+smi+'.pickle', 'rb') as pkl_file:\n",
    "    ref_mol = pickle.load(pkl_file)\n"
   ]
  },
  {
   "cell_type": "code",
   "execution_count": 112,
   "metadata": {},
   "outputs": [],
   "source": [
    "for i, con in enumerate(ref_mol['conformers']):\n",
    "    cmd.read_molstr(Chem.MolToMolBlock(con['rd_mol']), f'{smi}_conf{idx}')\n",
    "    #if idx > 1:\n",
    "    #cmd.align(f'ref_{smi}_conf{idx}', f'{smi}_conf1')\n",
    "    cmd.show('sticks')"
   ]
  },
  {
   "cell_type": "code",
   "execution_count": 101,
   "metadata": {},
   "outputs": [
    {
     "name": "stdout",
     "output_type": "stream",
     "text": [
      "28\n"
     ]
    }
   ],
   "source": []
  },
  {
   "cell_type": "code",
   "execution_count": null,
   "metadata": {},
   "outputs": [],
   "source": []
  }
 ],
 "metadata": {
  "kernelspec": {
   "display_name": "Python 3",
   "language": "python",
   "name": "python3"
  },
  "language_info": {
   "codemirror_mode": {
    "name": "ipython",
    "version": 3
   },
   "file_extension": ".py",
   "mimetype": "text/x-python",
   "name": "python",
   "nbconvert_exporter": "python",
   "pygments_lexer": "ipython3",
   "version": "3.7.10"
  }
 },
 "nbformat": 4,
 "nbformat_minor": 4
}
